{
 "cells": [
  {
   "cell_type": "markdown",
   "metadata": {},
   "source": [
    "## Structural Econometrics - Assignment 2 Tutorial\n",
    "### Author: Jaepil Lee\n",
    "### Date: 11/1/2021\n",
    "\n",
    "I thank Christine Dabbs and Martin Michelini for their help and comments."
   ]
  },
  {
   "cell_type": "markdown",
   "metadata": {},
   "source": [
    "### [How GMM works](#GMM_menu)<a name=\"GMM\"></a>\n",
    "### [Model](#review_menu)<a name=\"review\"></a>\n",
    "### [Data](#data_menu)<a name=\"data\"></a>\n",
    "### [Estimation](#estimation_menu)<a name=\"estimation\"></a>"
   ]
  },
  {
   "cell_type": "markdown",
   "metadata": {},
   "source": [
    "We aim to replicate a table below by using **monthly data** from 1960-1 to 2020-12.\n",
    "\n",
    "Note: The panels of Table III that this assignment asks you to replicate appear in their errata published in 1984."
   ]
  },
  {
   "cell_type": "markdown",
   "metadata": {},
   "source": [
    "<img src=\"[Hansen,Singleton;1984;Ecma] ERRATA - Table III estimates with multiple returns.png\">"
   ]
  },
  {
   "cell_type": "code",
   "execution_count": 1,
   "metadata": {},
   "outputs": [
    {
     "name": "stderr",
     "output_type": "stream",
     "text": [
      "\u001b[32m\u001b[1m  Activating\u001b[22m\u001b[39m project at `c:\\Users\\jaepi\\OneDrive\\Documents\\GitHub\\jaepillee0315.github.io`\n"
     ]
    }
   ],
   "source": [
    "ENV[\"COLUMNS\"]=100; ENV[\"LINES\"]=1000\n",
    "# Importing packages...\n",
    "using Pkg; Pkg.activate(\"./..\"); Pkg.instantiate();\n",
    "using Distributions, Statistics, Random, HypothesisTests,\n",
    "      LinearAlgebra, Distances, SharedArrays, \n",
    "      Optim, ForwardDiff, NLSolversBase, \n",
    "      Plots, Printf, LaTeXStrings, PlotThemes,\n",
    "      CSV, DataFrames, TimeSeries, Dates,\n",
    "      FredApi, FredData;"
   ]
  },
  {
   "cell_type": "markdown",
   "metadata": {},
   "source": [
    "### [How GMM works: OLS and LIV](#GMM)<a name=\"GMM_menu\"></a>"
   ]
  },
  {
   "cell_type": "markdown",
   "metadata": {},
   "source": [
    "Let's first see how GMM estimation routine works in OLS and LIV. Let's construct a hypothetical dataset with $N$ where:\n",
    "- $y_i = \\beta_0 + \\beta_1 x_{i,1} + \\beta_2 x_{i,2} + \\varepsilon_i, \\varepsilon_i \\sim \\mathcal{N}(0,\\sigma^2)$ for $i=1,\\ldots,N$\n",
    "- $(\\beta_0, \\beta_1, \\beta_2) = (0.15, 0.25, -1.5), \\sigma = 1.2$\n",
    "\n",
    "We all know what $\\beta_{ols}$ looks like: $(X'X)^{-1}X'Y$. We also know its standard errors. Let's code it just for fun:"
   ]
  },
  {
   "cell_type": "code",
   "execution_count": 2,
   "metadata": {},
   "outputs": [],
   "source": [
    "#%% DGP\n",
    "function DGP_OLS(N, β_DGP, σ_DGP)\n",
    "    Random.seed!(42) # RNG: We get the same number for replicability\n",
    "    (β₀,β₁,β₂) = β_DGP\n",
    "    x₁ = randn(N) # a Nx1 vector\n",
    "    x₂ = randn(N) # a Nx1 vector\n",
    "    ε = σ_DGP * randn(N)  # a Nx1 vector\n",
    "    y = β₀ .+ β₁ .* x₁ .+ β₂ .* x₂ .+ ε # a Nx1 vector\n",
    "    X = [ones(N, 1) x₁ x₂] # a Nx3 matrix\n",
    "    # If you wish to use other statistical packages, use this CSV file.\n",
    "    # df = DataFrame(X0 = X[:, 1], X1 = X[:, 2], X2 = X[:, 3], y = y);\n",
    "    # CSV.write(\"./OLS.csv\",df);\n",
    "    return y, X\n",
    "end\n",
    "#%% OLS estimation\n",
    "function OLS_estimation(y, X)\n",
    "    N = length(y)\n",
    "    β_OLS = inv(X'X) * X'y # a 3x1 vector given DGP\n",
    "    ε_OLS = y - X * β_OLS\n",
    "    invXX = inv(X'*X)\n",
    "    Xε = X.*ε_OLS\n",
    "    Σ_OLS = invXX*(Xε'*Xε)*invXX # V_HC0 - White-Heteroskedasticity-Robust VCov\n",
    "    σ_OLS = sqrt.(diag(Σ_OLS))\n",
    "    return β_OLS, σ_OLS\n",
    "end;"
   ]
  },
  {
   "cell_type": "markdown",
   "metadata": {},
   "source": [
    "Let's take $\\mathbf{Y}$ and $\\mathbf{X}$ we generated above and find $\\beta$ via GMM. You will see that they are exactly equal to each other. Let $f_i(\\beta):=f(Y_i,X_i,\\beta)$ be the function of orthogonality conditions evaluated at $i$'s covariates. The orthogonality condition for OLS is $\\mathbb{E}(\\varepsilon_i X_i) = 0$, where $\\varepsilon_i = Y_i - X_i'\\beta$ and the expectation is taken over $i$. In the GMM framework, we wish to find $\\beta$ that satisfies:\n",
    "$$\n",
    "    0 = \\frac{1}{N}\\sum_{i=1}^{N}f_i(\\beta) = \\frac{1}{N}\\sum_{i=1}^{N} \\varepsilon_i X_i= \\frac{1}{N}\\sum_{i=1}^{N} (Y_i - X_i'\\beta) \\times X_i.\n",
    "$$\n",
    "Notice there are $3 \\times 1$ orthogonality conditions: $\\varepsilon_i$ is a scalar and $X_i$ is a $3\\times1$ vector. Thus, the above equation is an \"element-wise\" average of a vector-valued function.\n",
    "\n",
    "If you recall from econometrics I, what OLS really does is minimizing the sum of squared residuals, $\\frac{1}{N}\\sum_{i=1}^N \\varepsilon_i^2$ where $\\varepsilon_i=Y_i-X_i'\\beta$. The first order condition of the minimization problem is found by taking a gradient of the sum of squared residuals (as a function of $\\beta$, $X$, and $Y$) with respect to $\\beta$. \n",
    "$$\n",
    "    \\frac{\\partial}{\\partial\\beta'}\\left(\\frac{1}{N}\\sum_{i}^{N}Y_i^2 - \\frac{1}{N}\\sum_{i}^{N} 2 X_i Y_i \\beta + \\frac{1}{N}\\sum_{i}^{N} \\beta' X_i X_i' \\beta \\right) = \\frac{1}{N}\\sum_{i}^{N}2(X_iX_i'\\beta - X_i Y_i) = 0 \\\\\n",
    "    \\frac{1}{N}\\sum_{i}^{N}(Y_i - X_i'\\beta) \\times X_i = 0\n",
    "$$\n",
    "This is exactly equal to the moment that GMM uses."
   ]
  },
  {
   "cell_type": "code",
   "execution_count": 3,
   "metadata": {},
   "outputs": [],
   "source": [
    "# OLS via GMM\n",
    "function GMM_OLS(y,X)\n",
    "\n",
    "    #=\n",
    "    f_OLS(β,y,X): orthogonality conditions\n",
    "    W: weighting matrix. In OLS, this is the identity matrix.\n",
    "    f_sum(β): a (k x 1) vector of sample average of normal function.\n",
    "    obj_OLS(β): a \"sandwich\" of f_sum(β).\n",
    "    Q: In OLS, it is inv(X'*X).\n",
    "    Ω: In OLS, it is the outer product of (X'*ε).\n",
    "    =#\n",
    "\n",
    "    function f_OLS(β,y,X)\n",
    "        return (y - X*β) .* X\n",
    "    end\n",
    "    \n",
    "    k = size(X)[2]\n",
    "    N = length(y)\n",
    "    W = I;\n",
    "    f_sum(β) = vec(sum(f_OLS(β, y, X),dims=1));\n",
    "    obj_OLS(β) = N * (f_sum(β)/N)' * W * (f_sum(β)/N);\n",
    "    opt = optimize(obj_OLS, randn(k), BFGS(), autodiff = :forward);\n",
    "\n",
    "    β_OLS_GMM = opt.minimizer;\n",
    "    Q = ForwardDiff.jacobian(β -> f_sum(β) , β_OLS_GMM)/N;\n",
    "    Ω = f_OLS(β_OLS_GMM, y, X)'*f_OLS(β_OLS_GMM, y, X)/N;\n",
    "    Σ_OLS_GMM = inv(Q'*W*Q)*(Q'*W*Ω*W*Q)*inv(Q'*W*Q)/N; # remember to divide by N to compute s.e. of β_hat!\n",
    "    σ_OLS_GMM = sqrt.(diag(Σ_OLS_GMM));\n",
    "    \n",
    "    return β_OLS_GMM, σ_OLS_GMM\n",
    "\n",
    "end;"
   ]
  },
  {
   "cell_type": "code",
   "execution_count": 4,
   "metadata": {},
   "outputs": [
    {
     "name": "stdout",
     "output_type": "stream",
     "text": [
      "Using the formula for OLS:\n",
      "    |     β₀     |     β₁     |     β₂     | \n",
      "DGP |  0.1500000 |  0.2500000 | -1.5000000 |\n",
      "OLS |  0.1574148 |  0.2556172 | -1.5032818 |\n",
      "    |( 0.0038011)|( 0.0037832)|( 0.0038027)|\n",
      "GMM |  0.1574148 |  0.2556172 | -1.5032818 |\n",
      "    |( 0.0038011)|( 0.0037832)|( 0.0038027)|\n",
      "Standard errors in parentheses."
     ]
    }
   ],
   "source": [
    "#%% Simulation & Estimation\n",
    "N = 100_000\n",
    "β_DGP = (0.15,0.25,-1.5)\n",
    "σ_DGP = 1.2\n",
    "y_OLS, X_OLS = DGP_OLS(N, β_DGP, σ_DGP)\n",
    "β_OLS, σ_OLS = OLS_estimation(y_OLS, X_OLS);\n",
    "β_OLS_GMM, σ_OLS_GMM = GMM_OLS(y_OLS,X_OLS);\n",
    "\n",
    "# Print the results\n",
    "print(\"Using the formula for OLS:\\n\")\n",
    "print(\"    |     β₀     |     β₁     |     β₂     | \\n\")\n",
    "@printf(\"DGP | %10.7f | %10.7f | %10.7f |\\n\", β_DGP[1], β_DGP[2], β_DGP[3])\n",
    "@printf(\"OLS | %10.7f | %10.7f | %10.7f |\\n\", β_OLS[1], β_OLS[2], β_OLS[3])\n",
    "@printf(\"    |(%10.7f)|(%10.7f)|(%10.7f)|\\n\", σ_OLS[1], σ_OLS[2], σ_OLS[3])\n",
    "@printf(\"GMM | %10.7f | %10.7f | %10.7f |\\n\", β_OLS_GMM[1], β_OLS_GMM[2], β_OLS_GMM[3])\n",
    "@printf(\"    |(%10.7f)|(%10.7f)|(%10.7f)|\\n\", σ_OLS_GMM[1], σ_OLS_GMM[2], σ_OLS_GMM[3])\n",
    "print(\"Standard errors in parentheses.\")"
   ]
  },
  {
   "cell_type": "markdown",
   "metadata": {},
   "source": [
    "As we expect, OLS and GMM estimation give us the same estimates."
   ]
  },
  {
   "cell_type": "markdown",
   "metadata": {},
   "source": [
    "Let's scale up a little bit and do LIV. 2SLS in the over-identified case is what we will use in GMM.\n",
    "\n",
    "Let $f_i(\\beta):=f(Y_i,X_i,Z_i,\\beta)$ be the function of orthogonality conditions. The orthogonality condition for LIV is $\\mathbb{E}(\\varepsilon_i Z_i) = 0$, where $\\varepsilon_i = Y_i - X_i'\\beta$ and the expectation is taken over $i$. In the GMM framework, we wish to find $\\beta$ that satisfies below:\n",
    "$$\n",
    "    0 = \\frac{1}{N}\\sum_{i=1}^{N}f_i(\\beta) = \\frac{1}{N}\\sum_{i=1}^{N} \\varepsilon_i Z_i= \\frac{1}{N}\\sum_{i=1}^{N} (Y_i - X_i'\\beta) \\times Z_i.\n",
    "$$\n",
    "\n",
    "If we have more instruments than the number of endogenous variables, we call the model is over-identified. In the example below, I set $x_2$ to be the endogenous variable and provide 2 instruments, $z_1$ and $z_2$. If we use both $z_1$ and $z_2$, then we have 4 orthogonality conditions and 3 parameters to estimate. It is almost surely impossible to find $\\beta$ where the moment is zero. Thus, we just find $\\beta$ that makes the moment as close to zero as possible. We instead can introduce some positive definite weighting matrix $W$ and make the estimate more efficient."
   ]
  },
  {
   "cell_type": "code",
   "execution_count": 5,
   "metadata": {},
   "outputs": [],
   "source": [
    "# DGP for LIV\n",
    "function DGP_LIV(N, β_DGP,μ,Σ)\n",
    "     Random.seed!(42)\n",
    "     (β₀,β₁,β₂) = β_DGP\n",
    "     (x₂, z₁, z₂, ε) = collect.(eachrow(rand(MvNormal(μ,Σ),N)))\n",
    "     x₁ = randn(N)\n",
    "     y = β₀ .+ β₁*x₁ .+ β₂*x₂ .+ ε # a Nx1 vector\n",
    "     X = [x₁ x₂] # a Nx2 matrix\n",
    "     Z = [z₁ z₂]\n",
    "     return y, X, Z\n",
    "end;"
   ]
  },
  {
   "cell_type": "code",
   "execution_count": 6,
   "metadata": {},
   "outputs": [],
   "source": [
    "function LIV_estimation(y, X_data, Z)\n",
    "\n",
    "     N = length(y)\n",
    "     X      = [ones(N) X_data]\n",
    "     X₁Z₁   = [ones(N) X[:,2] Z[:,1]]\n",
    "     X₁Z₂   = [ones(N) X[:,2] Z[:,2]]\n",
    "     X₁Z_oi = [ones(N) X[:,2] Z[:,1] Z[:,2]] # over-identified case\n",
    " \n",
    "     # Naive OLS produces biased estimates\n",
    "     β_IV_OLS  = inv(X'*X) * X'*y # a 3x1 vector\n",
    "     ε_OLS = y - X * β_IV_OLS\n",
    "     invXX = inv(X'*X)\n",
    "     Xε = X.*ε_OLS\n",
    "     Σ_IV_OLS = invXX*(Xε'*Xε)*invXX # V_HC0 - White-Heteroskedasticity-Robust VCov\n",
    "     σ_IV_OLS = sqrt.(diag(Σ_IV_OLS))\n",
    "\n",
    "     # Using Z₁ as instrument\n",
    "     # β_IV_Z₁ = inv(X'*X₁Z₁)*(X₁Z₁'*y)\n",
    "     # ε_IV_Z₁ = y - X * β_IV_Z₁\n",
    "     # invXZ₁  = inv(X'*X₁Z₁)\n",
    "     # Z₁ε     = X₁Z₁.*ε_IV_Z₁\n",
    "     # Σ_IV_Z₁ = invXZ₁*(Z₁ε'*Z₁ε)*invXZ₁\n",
    "     # σ_IV_Z₁ = sqrt.(diag(Σ_IV_Z₁))\n",
    "\n",
    "     # Using Z₂ as instrument\n",
    "     # β_IV_Z₂ = inv(X'*X₁Z₂)*(X₁Z₂'*y)\n",
    "     # ε_IV_Z₂ = y - X * β_IV_Z₂\n",
    "     # invXZ₂  = inv(X'*X₁Z₂)\n",
    "     # Z₂ε     = X₁Z₂.*ε_IV_Z₂\n",
    "     # Σ_IV_Z₂ = invXZ₂*(Z₂ε'*Z₂ε)*invXZ₂\n",
    "     # σ_IV_Z₂ = sqrt.(diag(Σ_IV_Z₂))\n",
    "\n",
    "     # 2SLS - Using Z₁ as instrument\n",
    "     β_2SLS_Z₁  = inv(X'*X₁Z₁*inv(X₁Z₁'*X₁Z₁)*X₁Z₁'*X)*X'*X₁Z₁*inv(X₁Z₁'*X₁Z₁)*X₁Z₁'*y\n",
    "     ε_2SLS_Z₁  = y - X * β_2SLS_Z₁\n",
    "     Zε_2SLS_Z₁ = X₁Z₁.*ε_2SLS_Z₁\n",
    "     Qxz₁  = X'*X₁Z₁\n",
    "     Qz₁z₁ = X₁Z₁'*X₁Z₁\n",
    "     Qz₁x  = X₁Z₁'*X\n",
    "     Ω_2SLS_Z₁ = Zε_2SLS_Z₁'*Zε_2SLS_Z₁\n",
    "     Σ_2SLS_Z₁ = inv(Qxz₁*inv(Qz₁z₁)*Qz₁x)*(Qxz₁*inv(Qz₁z₁)*Ω_2SLS_Z₁*inv(Qz₁z₁)*Qz₁x)*inv(Qxz₁*inv(Qz₁z₁)*Qz₁x)\n",
    "     σ_2SLS_Z₁ =sqrt.(diag(Σ_2SLS_Z₁))\n",
    "\n",
    "     # 2SLS - Using Z₂ as instrument\n",
    "     # β_2SLS_Z₂  = inv(X'*X₁Z₁*inv(X₁Z₁'*X₁Z₁)*X₁Z₁'*X)*X'*X₁Z₁*inv(X₁Z₁'*X₁Z₁)*X₁Z₁'*y\n",
    "     # ε_2SLS_Z₂  = y - X * β_2SLS_Z₂\n",
    "     # Zε_2SLS_Z₂ = X₁Z₂.*ε_2SLS_Z₂\n",
    "     # Qxz₂  = X'*X₁Z₂\n",
    "     # Qz₂z₂ = X₁Z₂'*X₁Z₂\n",
    "     # Qz₂x  = X₁Z₂'*X\n",
    "     # Ω_2SLS_Z₂ = Zε_2SLS_Z₂'*Zε_2SLS_Z₂\n",
    "     # Σ_2SLS_Z₂ = inv(Qxz₂*inv(Qz₂z₂)*Qz₂x)*(Qxz₂*inv(Qz₂z₂)*Ω_2SLS_Z₂*inv(Qz₂z₂)*Qz₂x)*inv(Qxz₂*inv(Qz₂z₂)*Qz₂x)\n",
    "     # σ_2SLS_Z₂ =sqrt.(diag(Σ_2SLS_Z₂))\n",
    "\n",
    "     # Using Z₁ and Z₂ as instrument: OVERIDENTIFIED!\n",
    "     Qxz = X'*X₁Z_oi\n",
    "     Qzz = X₁Z_oi'*X₁Z_oi\n",
    "     Qzx = X₁Z_oi'*X\n",
    "     β_2SLS_oi = inv(Qxz*inv(Qzz)*Qzx)*(Qxz*inv(Qzz)*X₁Z_oi')*y\n",
    "     ε_2SLS_oi = y - X*β_2SLS_oi\n",
    "     Zε = X₁Z_oi.*ε_2SLS_oi\n",
    "     Ω_2SLS_oi = Zε'*Zε\n",
    "     Σ_2SLS_oi= inv(Qxz*inv(Qzz)*Qzx)*(Qxz*inv(Qzz)*Ω_2SLS_oi*inv(Qzz)*Qzx)*inv(Qxz*inv(Qzz)*Qzx)\n",
    "     σ_2SLS_oi=sqrt.(diag(Σ_2SLS_oi))\n",
    "\n",
    "     # β_IV_Z₁,   σ_IV_Z₁,\n",
    "     # β_IV_Z₂,   σ_IV_Z₂,\n",
    "     # β_2SLS_Z₁, σ_2SLS_Z₁,\n",
    "     # β_2SLS_Z₂, σ_2SLS_Z₂,\n",
    "\n",
    "     return β_IV_OLS, σ_IV_OLS, β_2SLS_Z₁, σ_2SLS_Z₁, β_2SLS_oi, σ_2SLS_oi\n",
    "end;"
   ]
  },
  {
   "cell_type": "code",
   "execution_count": 7,
   "metadata": {},
   "outputs": [
    {
     "name": "stdout",
     "output_type": "stream",
     "text": [
      "LIV result: β₂ is biased in OLS \n",
      "        |     β₀     |     β₁     |     β₂     | \n",
      "DGP     |  0.1500000 |  0.2500000 | -1.5000000 |\n",
      "OLS     |  0.1479366 |  0.2514084 | -1.0057541 |\n",
      "        |( 0.0038011)|( 0.0037832)|( 0.0038027)|\n",
      "2SLS-Z₁ |  0.1467703 |  0.2517546 | -1.4979841 |\n",
      "        |( 0.0044668)|( 0.0044696)|( 0.0088246)|\n",
      "2SLS-oi |  0.1467379 |  0.2517642 | -1.5116826 |\n",
      "        |( 0.0044974)|( 0.0045002)|( 0.0044776)|\n",
      "Standard errors in parentheses."
     ]
    }
   ],
   "source": [
    "# order: x₂, Z₁, Z₂, ε\n",
    "μ = [0.0; 0.0; 0.0; 0.0];\n",
    "Σ = [2.0  0.5  -.5  1.0;\n",
    "     0.5  1.0  0.5  0.0;\n",
    "     -.5  0.5  1.0  0.0;\n",
    "     1.0  0.0  0.0  2.0];\n",
    "Y_LIV, X_LIV, Z_LIV = DGP_LIV(N, β_DGP,μ,Σ);\n",
    "β_IV_OLS, σ_IV_OLS, β_2SLS_Z₁, σ_2SLS_Z₁, β_2SLS_oi, σ_2SLS_oi = LIV_estimation(Y_LIV, X_LIV, Z_LIV);\n",
    "\n",
    "print(\"LIV result: β₂ is biased in OLS \\n\")\n",
    "print(\"        |     β₀     |     β₁     |     β₂     | \\n\")\n",
    "@printf(\"DGP     | %10.7f | %10.7f | %10.7f |\\n\", β_DGP[1], β_DGP[2], β_DGP[3])\n",
    "@printf(\"OLS     | %10.7f | %10.7f | %10.7f |\\n\", β_IV_OLS[1], β_IV_OLS[2], β_IV_OLS[3])\n",
    "@printf(\"        |(%10.7f)|(%10.7f)|(%10.7f)|\\n\", σ_OLS[1], σ_OLS[2], σ_OLS[3])\n",
    "#@printf(\"IV-Z₁   | %10.7f | %10.7f | %10.7f |\\n\", β_IV_Z₁[1], β_IV_Z₁[2], β_IV_Z₁[3])\n",
    "#@printf(\"        |(%10.7f)|(%10.7f)|(%10.7f)|\\n\", σ_IV_Z₁[1], σ_IV_Z₁[2], σ_IV_Z₁[3])\n",
    "#@printf(\"IV-Z₂   | %10.7f | %10.7f | %10.7f |\\n\", β_IV_Z₂[1], β_IV_Z₂[2], β_IV_Z₂[3])\n",
    "#@printf(\"        |(%10.7f)|(%10.7f)|(%10.7f)|\\n\", σ_IV_Z₂[1], σ_IV_Z₂[2], σ_IV_Z₂[3])\n",
    "@printf(\"2SLS-Z₁ | %10.7f | %10.7f | %10.7f |\\n\", β_2SLS_Z₁[1], β_2SLS_Z₁[2], β_2SLS_Z₁[3])\n",
    "@printf(\"        |(%10.7f)|(%10.7f)|(%10.7f)|\\n\", σ_2SLS_Z₁[1], σ_2SLS_Z₁[2], σ_2SLS_Z₁[3])\n",
    "#@printf(\"2SLS-Z₂ | %10.7f | %10.7f | %10.7f |\\n\", β_2SLS_Z₂[1], β_2SLS_Z₂[2], β_2SLS_Z₂[3])\n",
    "#@printf(\"        |(%7.4f)|(%7.4f)|(%7.4f)|\\n\", σ_2SLS_Z₂[1], σ_2SLS_Z₂[2], σ_2SLS_Z₂[3])\n",
    "@printf(\"2SLS-oi | %10.7f | %10.7f | %10.7f |\\n\", β_2SLS_oi[1], β_2SLS_oi[2], β_2SLS_oi[3])\n",
    "@printf(\"        |(%10.7f)|(%10.7f)|(%10.7f)|\\n\", σ_2SLS_oi[1], σ_2SLS_oi[2], σ_2SLS_oi[3])\n",
    "print(\"Standard errors in parentheses.\")"
   ]
  },
  {
   "cell_type": "markdown",
   "metadata": {},
   "source": [
    "You can see that LIV estimate for $\\beta_2$ in over-identified case has smaller standard error compared to just-identified case. Motivated by these examples, let's take a look at what GMM does:"
   ]
  },
  {
   "cell_type": "markdown",
   "metadata": {},
   "source": [
    "#### Definition ([Bruce Hansen, p.416](https://www.ssc.wisc.edu/~bhansen/econometrics/Econometrics.pdf))\n",
    "Let $\\beta$ be a $k\\times1$ vector, $f_i(\\beta)$ be a $l\\times1$ orthogonality conditions, and $W$ be a $l\\times l$ positive definite weighting matrix. Define the GMM criterion function $J(\\beta)$ as\n",
    "$$\n",
    "    J(\\beta) = N \\left(\\frac{1}{N}\\sum_{i=1}^N f_i(\\beta)\\right)' W \\left(\\frac{1}{N}\\sum_{i=1}^N f_i(\\beta)\\right).\n",
    "$$\n",
    "The GMM estimator is \n",
    "$$\n",
    "    \\hat{\\beta}_{gmm} = \\underset{\\beta}{\\arg\\min}\\; J(\\beta).\n",
    "$$\n",
    "\n",
    "#### Proposition ([Bruce Hansen, p.432](https://www.ssc.wisc.edu/~bhansen/econometrics/Econometrics.pdf))\n",
    "Under general regularity conditions, $\\sqrt{N}(\\hat{\\beta}_{gmm}-\\beta_0) \\xrightarrow[]{d} N(0,V_\\beta)$ where \n",
    "$$\n",
    "\\begin{align*}\n",
    "    V_\\beta &= (Q'WQ)^{-1}(Q'W\\Omega WQ)(Q'WQ)^{-1}\\\\\n",
    "    \\Omega &= \\mathbb{E}(f_i f_i') \\\\\n",
    "    Q &= \\mathbb{E}\\left[\\frac{\\partial}{\\partial \\beta'}f_i(\\beta)\\right].\n",
    "\\end{align*}\n",
    "$$\n",
    "If $W$ is efficient, $V_\\beta = (Q'\\Omega^{-1} Q)^{-1}$."
   ]
  },
  {
   "cell_type": "markdown",
   "metadata": {},
   "source": [
    "Note that when you compute standard errors for $\\hat{\\beta}_{gmm}$, you must divide $V_\\beta$ by $N$! $V_\\beta$ is the variance for $\\sqrt{N}(\\hat{\\beta}_{gmm}-\\beta)$, not $\\hat{\\beta}_{gmm}$ ."
   ]
  },
  {
   "cell_type": "markdown",
   "metadata": {},
   "source": [
    "#### Two-step GMM ([Bruce Hansen, p.444](https://www.ssc.wisc.edu/~bhansen/econometrics/Econometrics.pdf))\n",
    "In order to construct the efficient GMM estimator, we need to know what is the optimal $W$ in our model. In LIV, we know that $W=(Z'Z)^{-1}$. If the optimal weighting matrix $W=\\Omega^{-1}$ is unknown, then we can first estimate $W$ with a standard GMM routine (say, by setting $W=I$), and then do the GMM routine again with $W=\\hat{\\Omega}^{-1}$.\n",
    "\n",
    "#### Programming\n",
    "In this case, we can simply code GMM as follows:\n",
    "1. Set some weighting matrix $W$. In our example, for the just-identified case, use $W=I$ and for the over-identified case, use $W=(Z'Z)^{-1}$.\n",
    "1. Construct the GMM criterion function. It is **obj_IV** in my code.\n",
    "1. Ask the computer to minimize the criterion function for you. The minimizer is your $\\hat{\\beta}_{gmm}$.\n",
    "1. Compute $Q$ and $\\Omega$.\n",
    "    - If you are using a two-step GMM, then repeat step 3 and 4 by setting $W=\\hat{\\Omega}^{-1}$\n",
    "1. Compute the asymptotic variance $V_\\beta$. \n",
    "1. Compute standard errors with $\\textbf{sqrt}.(\\textbf{diag}(\\mathbf{V_\\beta}/N))$"
   ]
  },
  {
   "cell_type": "code",
   "execution_count": 8,
   "metadata": {},
   "outputs": [],
   "source": [
    "#%% GMM_IV\n",
    "function GMM_one_step(y,Z_data,X_data;W=I)\n",
    "\n",
    "    #=\n",
    "    f_IV(β, y, Z, X): orthogonality conditions\n",
    "    W: the weighting matrix. In one-step GMM, we do not update this.\n",
    "    =#\n",
    "   \n",
    "    N = length(y)\n",
    "    X = [ones(N) X_data]\n",
    "    Z = [ones(N) X_data[:,1] Z_data]\n",
    "    k = size(X)[2] # size of β\n",
    "    \n",
    "    function f_IV(β, y, Z, X)\n",
    "        return (y - X*β) .* Z # (N×1) * (N×4)\n",
    "    end\n",
    "    \n",
    "    f_sum_IV(β) = vec(sum(f_IV(β, y, Z, X),dims=1));\n",
    "    obj_IV(β) = N * (f_sum_IV(β)/N)' * W * (f_sum_IV(β)/N);\n",
    "    opt = optimize(obj_IV, randn(k), BFGS(), autodiff = :forward);\n",
    "    β_GMM = opt.minimizer\n",
    "    Q = ForwardDiff.jacobian(β -> f_sum_IV(β) , β_GMM)/N;\n",
    "    Ω = f_IV(β_GMM, y, Z, X)'*f_IV(β_GMM, y, Z, X)/N;\n",
    "    V_GMM = inv(Q'*W*Q)*(Q'*W*Ω*W*Q)*inv(Q'*W*Q)/N; # remember to divide by N!\n",
    "    σ_GMM = sqrt.(diag(V_GMM))\n",
    "\n",
    "    return β_GMM, σ_GMM\n",
    "\n",
    "end;"
   ]
  },
  {
   "cell_type": "code",
   "execution_count": 9,
   "metadata": {},
   "outputs": [],
   "source": [
    "function GMM_two_step(y,Z_data,X_data)\n",
    "\n",
    "    #=\n",
    "    f_IV(β, y, Z, X): orthogonality conditions\n",
    "    W: the weighting matrix. In this case, we update this once.\n",
    "    =#\n",
    "\n",
    "    N = length(y)\n",
    "    X = [ones(N) X_data]\n",
    "    Z = [ones(N) X_data[:,1] Z_data]\n",
    "    k = size(X)[2] # size of β\n",
    "    \n",
    "    function f_IV(β, y, Z, X)\n",
    "        return (y - X*β) .* Z # (N×1) * (N×4)\n",
    "    end\n",
    "    f_sum_IV(β) = vec(sum(f_IV(β, y, Z, X),dims=1));\n",
    "    \n",
    "    # First-step: the estimates and the standard errors are the same as setting W=I in one-step GMM.\n",
    "    W_1 = I;\n",
    "    obj_GMM_1(β) = N * (f_sum_IV(β)/N)' * W_1 * (f_sum_IV(β)/N);\n",
    "    opt_1 = optimize(obj_GMM_1, randn(k), BFGS(), autodiff = :forward);\n",
    "    β_GMM_1 = opt_1.minimizer\n",
    "    Q_1 = ForwardDiff.jacobian(β -> f_sum_IV(β) , β_GMM_1)/N;\n",
    "    Ω_1 = f_IV(β_GMM_1, y, Z, X)'*f_IV(β_GMM_1, y, Z, X)/N;\n",
    "\n",
    "    # Second-step\n",
    "    W_opt = inv(Ω_1)\n",
    "    obj_GMM_2(β) = N * (f_sum_IV(β)/N)' * W_opt * (f_sum_IV(β)/N);\n",
    "    opt_2 = optimize(obj_GMM_2, randn(k), BFGS(), autodiff = :forward);\n",
    "    β_GMM_2 = opt_2.minimizer\n",
    "    Q_2 = ForwardDiff.jacobian(β -> f_sum_IV(β) , β_GMM_2)/N;\n",
    "    Ω_2 = f_IV(β_GMM_2, y, Z, X)'*f_IV(β_GMM_2, y, Z, X)/N;\n",
    "    \n",
    "    # Results\n",
    "    V_GMM_1 = inv(Q_1'*W_1*Q_1)*(Q_1'*W_1*Ω_1*W_1*Q_1)*inv(Q_1'*W_1*Q_1)/N; # remember to divide by N!\n",
    "    σ_GMM_1 = sqrt.(diag(V_GMM_1))\n",
    "    V_GMM_2 = inv(Q_2'*W_opt*Q_2)*(Q_2'*W_opt*Ω_2*W_opt*Q_2)*inv(Q_2'*W_opt*Q_2)/N; # remember to divide by N!\n",
    "    σ_GMM_2 = sqrt.(diag(V_GMM_2))\n",
    "\n",
    "    return β_GMM_1, σ_GMM_1, β_GMM_2, σ_GMM_2\n",
    "\n",
    "end;"
   ]
  },
  {
   "cell_type": "code",
   "execution_count": 10,
   "metadata": {},
   "outputs": [
    {
     "name": "stdout",
     "output_type": "stream",
     "text": [
      "GMM result, overidentified: β₂ is biased in OLS \n",
      "              |     β₀    |     β₁    |     β₂    | \n",
      "DGP           |  0.1500000 |  0.2500000 | -1.5000000 |\n",
      "One-step GMM: |  0.1467573 |  0.2517024 | -1.5115486 |\n",
      " W=I          |( 0.0044970)|( 0.0045002)|( 0.0044782)|\n",
      "One-step GMM: |  0.1467379 |  0.2517642 | -1.5116826 |\n",
      " W=inv(Z'Z)   |( 0.0044974)|( 0.0045002)|( 0.0044776)|\n",
      "Two-step GMM  |  0.1467965 |  0.2517965 | -1.5117060 |\n",
      "              |( 0.0044973)|( 0.0045002)|( 0.0044777)|\n",
      "Standard errors in parentheses."
     ]
    }
   ],
   "source": [
    "# Estimation\n",
    "Z = [ones(N) X_LIV[:,1] Z_LIV];\n",
    "β_GMM_I,  σ_GMM_I      = GMM_one_step(Y_LIV,Z_LIV,X_LIV,W=I);\n",
    "β_GMM_ZZ, σ_GMM_ZZ     = GMM_one_step(Y_LIV,Z_LIV,X_LIV,W=inv(Z'*Z));\n",
    "_, _, β_GMM_2, σ_GMM_2 = GMM_two_step(Y_LIV,Z_LIV,X_LIV);\n",
    "\n",
    "# Print the results\n",
    "print(\"GMM result, overidentified: β₂ is biased in OLS \\n\")\n",
    "print(\"              |     β₀    |     β₁    |     β₂    | \\n\")\n",
    "@printf(\"DGP           | %10.7f | %10.7f | %10.7f |\\n\", β_DGP[1], β_DGP[2], β_DGP[3])\n",
    "@printf(\"One-step GMM: | %10.7f | %10.7f | %10.7f |\\n\", β_GMM_I[1], β_GMM_I[2], β_GMM_I[3])\n",
    "@printf(\" W=I          |(%10.7f)|(%10.7f)|(%10.7f)|\\n\", σ_GMM_I[1], σ_GMM_I[2], σ_GMM_I[3])\n",
    "@printf(\"One-step GMM: | %10.7f | %10.7f | %10.7f |\\n\", β_GMM_ZZ[1], β_GMM_ZZ[2], β_GMM_ZZ[3])\n",
    "@printf(\" W=inv(Z'Z)   |(%10.7f)|(%10.7f)|(%10.7f)|\\n\", σ_GMM_ZZ[1], σ_GMM_ZZ[2], σ_GMM_ZZ[3])\n",
    "@printf(\"Two-step GMM  | %10.7f | %10.7f | %10.7f |\\n\", β_GMM_2[1], β_GMM_2[2], β_GMM_2[3])\n",
    "@printf(\"              |(%10.7f)|(%10.7f)|(%10.7f)|\\n\", σ_GMM_2[1], σ_GMM_2[2], σ_GMM_2[3])\n",
    "print(\"Standard errors in parentheses.\")"
   ]
  },
  {
   "cell_type": "markdown",
   "metadata": {},
   "source": [
    "There is small difference between two-step GMM and One-step GMM with $W=(Z'Z)^{-1}$ because two-step GMM estimated $W$. As you increase $N$, this difference will disappear.\n",
    "\n",
    "One could also iterate steps as many times as you wish until the updated $\\hat{\\beta}_{gmm}$ converges. This is called **Iterated GMM**. Note, however, the two-step GMM is already asymptotically efficient. You might want to use iterated GMM if you think the estimates are suffering from small sample.\n",
    "\n",
    "#### Programming\n",
    "1. Set some weighting matrix $W$. In our example, for the just-identified case, use $W=I$ and for the over-identified case, use $W=(Z'Z)^{-1}$. Also, set some tolerance to declare 'convergence'.\n",
    "1. Construct the GMM criterion function. It is **obj_IV** in my code.\n",
    "1. Ask the computer to minimize the criterion function for you. The minimizer is your $\\hat{\\beta}_{gmm}$.\n",
    "1. Compute $Q$ and $\\Omega$.\n",
    "    - Repeat step 3 and 4 by updating $W=\\hat{\\Omega}^{-1}$ iteratively and until convergence up to some tolerance.\n",
    "1. Compute the asymptotic variance $V_\\beta$. \n",
    "1. Compute standard errors with $\\textbf{sqrt}.(\\textbf{diag}(\\mathbf{V_\\beta}/N))$."
   ]
  },
  {
   "cell_type": "code",
   "execution_count": 11,
   "metadata": {},
   "outputs": [],
   "source": [
    "function iterated_GMM(func, γ, y, X, Z; tol=0.001, max_iter=10)\n",
    "\n",
    "    #=\n",
    "    func: moment(s)\n",
    "    X: the matrix of variables that forms moments we wish to make 0\n",
    "    Z: the matrix orthogonal to moment\n",
    "    tol: if diff<tol, we claim the update converged\n",
    "    max_iter: if iter>max_iter, we stop and report what we have so far.\n",
    "    If max_iter = 2, then it is equivalent to two-step GMM.\n",
    "    =#\n",
    "\n",
    "    γ_GMM    = Vector{Vector{Float64}}()\n",
    "    σ_GMM    = Vector{Vector{Float64}}()\n",
    "    chi2_vec = Vector{Float64}()\n",
    "    pval_vec = Vector{Float64}()\n",
    "    diff_vec = Vector{Float64}()\n",
    "\n",
    "    N  = size(func(γ, y, X, Z))[1];\n",
    "    l  = size(func(γ, y, X, Z))[2];\n",
    "    k  = length(γ);\n",
    "    df = l-k\n",
    "\n",
    "    func_vec(γ) = vec(sum(func(γ, y, X, Z),dims=1));\n",
    "\n",
    "    # First step\n",
    "    W_1 = I;\n",
    "    obj_GMM_1(γ) = N * (func_vec(γ)/N)' * W_1 * (func_vec(γ)/N);\n",
    "    opt_1 = optimize(obj_GMM_1, randn(k), BFGS(), autodiff = :forward);\n",
    "    γ_GMM_1 = vec(opt_1.minimizer)\n",
    "    Q_1 = ForwardDiff.jacobian(γ -> func_vec(γ) , γ_GMM_1)/N;\n",
    "    Ω_1 = func(γ_GMM_1, y, X, Z)'*func(γ_GMM_1, y, X, Z)/N;\n",
    "    V_GMM_1 = inv(Q_1'*W_1*Q_1)*(Q_1'*W_1*Ω_1*W_1*Q_1)*inv(Q_1'*W_1*Q_1)/N; # remember to divide by N!\n",
    "    σ_GMM_1 = sqrt.(diag(V_GMM_1))\n",
    "    chi2 = obj_GMM_1(γ_GMM_1)\n",
    "    pval = ccdf(Chisq(l-k),obj_GMM_1(γ_GMM_1)) # p-val\n",
    "\n",
    "    push!(γ_GMM, γ_GMM_1)\n",
    "    push!(σ_GMM, σ_GMM_1)\n",
    "    push!(chi2_vec, chi2)\n",
    "    push!(pval_vec, pval)\n",
    "\n",
    "    diff = 1e6\n",
    "    iter = 1\n",
    "    \n",
    "    # Iterated GMM\n",
    "    while (diff > tol) & (iter < max_iter)\n",
    "        W_opt = inv(Ω_1)\n",
    "        obj_GMM_2(γ) = N * (func_vec(γ)/N)' * W_opt * (func_vec(γ)/N);\n",
    "        opt_2 = optimize(obj_GMM_2, randn(k), BFGS(), autodiff = :forward);\n",
    "        γ_GMM_2 = vec(opt_2.minimizer)\n",
    "        Q_2 = ForwardDiff.jacobian(γ -> func_vec(γ) , γ_GMM_2)/N;\n",
    "        Ω_2 = func(γ_GMM_2, y, X, Z)'*func(γ_GMM_2, y, X, Z)/N;\n",
    "        V_GMM_2 = inv(Q_2'*W_opt*Q_2)*(Q_2'*W_opt*Ω_2*W_opt*Q_2)*inv(Q_2'*W_opt*Q_2)/N; # remember to divide by N!\n",
    "        σ_GMM_2 = sqrt.(diag(V_GMM_2));\n",
    "        chi2 = obj_GMM_2(γ_GMM_2)    \n",
    "        pval = ccdf(Chisq(l-k),obj_GMM_2(γ_GMM_2)) # p-val\n",
    "\n",
    "        # update\n",
    "        diff = sqrt(sum((γ_GMM_2-γ_GMM_1).^2))\n",
    "        Ω_1 = Ω_2\n",
    "        γ_GMM_1 = γ_GMM_2\n",
    "        iter += 1\n",
    "\n",
    "        # record\n",
    "        push!(diff_vec, diff)\n",
    "        push!(γ_GMM, γ_GMM_2)\n",
    "        push!(σ_GMM, σ_GMM_2)\n",
    "        push!(chi2_vec, chi2)\n",
    "        push!(pval_vec, pval)\n",
    "    end\n",
    "\n",
    "    return γ_GMM, σ_GMM, chi2_vec, df, pval_vec, diff_vec\n",
    "    \n",
    "end;"
   ]
  },
  {
   "cell_type": "code",
   "execution_count": 12,
   "metadata": {},
   "outputs": [],
   "source": [
    "# Estimation\n",
    "Z = [ones(N) X_LIV[:,1] Z_LIV];\n",
    "β_GMM_I,  σ_GMM_I      = GMM_one_step(Y_LIV,Z_LIV,X_LIV,W=I);\n",
    "β_GMM_ZZ, σ_GMM_ZZ     = GMM_one_step(Y_LIV,Z_LIV,X_LIV,W=inv(Z'*Z));\n",
    "_, _, β_GMM_2, σ_GMM_2 = GMM_two_step(Y_LIV,Z_LIV,X_LIV);\n",
    "# Iterated GMM \n",
    "function f_IV(β, y, Xdata, Zdata)\n",
    "    N = length(y)\n",
    "    X = [ones(N) Xdata]\n",
    "    Z = [ones(N) Xdata[:,1] Zdata]\n",
    "    return (y - X*β) .* Z # (N×1) * (N×4)\n",
    "end\n",
    "β_GMM_iter, σ_GMM_iter, chi2_vec, df, pval_vec, diff_vec = iterated_GMM(f_IV, randn(3), Y_LIV, X_LIV, Z_LIV; tol=1e-9, max_iter=5);"
   ]
  },
  {
   "cell_type": "code",
   "execution_count": 18,
   "metadata": {},
   "outputs": [
    {
     "ename": "LoadError",
     "evalue": "LoadError: UndefVarError: @printf not defined\nin expression starting at c:\\Users\\jaepi\\OneDrive\\Documents\\GitHub\\jaepillee0315.github.io\\structural-econometrics\\2_GMM.ipynb:4",
     "output_type": "error",
     "traceback": [
      "LoadError: UndefVarError: @printf not defined\n",
      "in expression starting at c:\\Users\\jaepi\\OneDrive\\Documents\\GitHub\\jaepillee0315.github.io\\structural-econometrics\\2_GMM.ipynb:4\n",
      "\n",
      "Stacktrace:\n",
      "  [1] top-level scope\n",
      "    @ :0\n",
      "  [2] eval\n",
      "    @ .\\boot.jl:373 [inlined]\n",
      "  [3] include_string(mapexpr::typeof(REPL.softscope), mod::Module, code::String, filename::String)\n",
      "    @ Base .\\loading.jl:1196\n",
      "  [4] #invokelatest#2\n",
      "    @ .\\essentials.jl:716 [inlined]\n",
      "  [5] invokelatest\n",
      "    @ .\\essentials.jl:714 [inlined]\n",
      "  [6] (::VSCodeServer.var\"#150#151\"{VSCodeServer.NotebookRunCellArguments, String})()\n",
      "    @ VSCodeServer c:\\Users\\jaepi\\.vscode\\extensions\\julialang.language-julia-1.5.11\\scripts\\packages\\VSCodeServer\\src\\serve_notebook.jl:18\n",
      "  [7] withpath(f::VSCodeServer.var\"#150#151\"{VSCodeServer.NotebookRunCellArguments, String}, path::String)\n",
      "    @ VSCodeServer c:\\Users\\jaepi\\.vscode\\extensions\\julialang.language-julia-1.5.11\\scripts\\packages\\VSCodeServer\\src\\repl.jl:185\n",
      "  [8] notebook_runcell_request(conn::VSCodeServer.JSONRPC.JSONRPCEndpoint{Base.PipeEndpoint, Base.PipeEndpoint}, params::VSCodeServer.NotebookRunCellArguments)\n",
      "    @ VSCodeServer c:\\Users\\jaepi\\.vscode\\extensions\\julialang.language-julia-1.5.11\\scripts\\packages\\VSCodeServer\\src\\serve_notebook.jl:14\n",
      "  [9] dispatch_msg(x::VSCodeServer.JSONRPC.JSONRPCEndpoint{Base.PipeEndpoint, Base.PipeEndpoint}, dispatcher::VSCodeServer.JSONRPC.MsgDispatcher, msg::Dict{String, Any})\n",
      "    @ VSCodeServer.JSONRPC c:\\Users\\jaepi\\.vscode\\extensions\\julialang.language-julia-1.5.11\\scripts\\packages\\JSONRPC\\src\\typed.jl:67\n",
      " [10] serve_notebook(pipename::String; crashreporting_pipename::String)\n",
      "    @ VSCodeServer c:\\Users\\jaepi\\.vscode\\extensions\\julialang.language-julia-1.5.11\\scripts\\packages\\VSCodeServer\\src\\serve_notebook.jl:94\n",
      " [11] top-level scope\n",
      "    @ c:\\Users\\jaepi\\.vscode\\extensions\\julialang.language-julia-1.5.11\\scripts\\notebook\\notebook.jl:12\n",
      " [12] include(mod::Module, _path::String)\n",
      "    @ Base .\\Base.jl:418\n",
      " [13] exec_options(opts::Base.JLOptions)\n",
      "    @ Base .\\client.jl:292\n",
      " [14] _start()\n",
      "    @ Base .\\client.jl:495"
     ]
    }
   ],
   "source": [
    "# Print the results\n",
    "print(\"Iterated GMM result, overidentified: β₂ is biased in OLS \\n\")\n",
    "print(\"        |     β₀     |     β₁     |     β₂     | \\n\")\n",
    "@printf(\"DGP     | %10.7f | %10.7f | %10.7f |\\n\", β_DGP[1], β_DGP[2], β_DGP[3])\n",
    "@printf(\"Step 1  | %10.7f | %10.7f | %10.7f |\\n\", β_GMM_iter[1][1], β_GMM_iter[1][2], β_GMM_iter[1][3])\n",
    "@printf(\"        |(%10.7f)|(%10.7f)|(%10.7f)|\\n\", σ_GMM_iter[1][1], σ_GMM_iter[1][2], σ_GMM_iter[1][3])\n",
    "@printf(\"Step 2  | %10.7f | %10.7f | %10.7f |\\n\", β_GMM_iter[2][1], β_GMM_iter[2][2], β_GMM_iter[2][3])\n",
    "@printf(\"        |(%10.7f)|(%10.7f)|(%10.7f)|\\n\", σ_GMM_iter[2][1], σ_GMM_iter[2][2], σ_GMM_iter[2][3])\n",
    "@printf(\"Step 3  | %10.7f | %10.7f | %10.7f |\\n\", β_GMM_iter[3][1], β_GMM_iter[3][2], β_GMM_iter[3][3])\n",
    "@printf(\"        |(%10.7f)|(%10.7f)|(%10.7f)|\\n\", σ_GMM_iter[3][1], σ_GMM_iter[3][2], σ_GMM_iter[3][3])\n",
    "@printf(\"Step 4  | %10.7f | %10.7f | %10.7f |\\n\", β_GMM_iter[4][1], β_GMM_iter[4][2], β_GMM_iter[4][3])\n",
    "@printf(\"        |(%10.7f)|(%10.7f)|(%10.7f)|\\n\", σ_GMM_iter[4][1], σ_GMM_iter[4][2], σ_GMM_iter[4][3])\n",
    "print(\"Standard errors in parentheses.\")"
   ]
  },
  {
   "cell_type": "markdown",
   "metadata": {},
   "source": [
    "### [Model](#model)<a name=\"model_menu\"></a>"
   ]
  },
  {
   "cell_type": "markdown",
   "metadata": {},
   "source": [
    "We consider the following model\n",
    "$$\n",
    "    1=\\mathbb{E}_{t}\\left[r_{t+1, k} \\beta \\frac{u^{\\prime}\\left(c_{t+1}\\right)}{u^{\\prime}\\left(c_{t}\\right)}\\right] \\equiv \\mathbb{E}_{t}\\left[r_{t+1, k} MRS_{t+1}\\right]\n",
    "$$\n",
    "where:\n",
    "- $r_{t+1,k}$ is gross real return on asset $k$\n",
    "- $\\beta \\frac{u^{\\prime}\\left(c_{t+1}\\right)}{u^{\\prime}\\left(c_{t}\\right)}$ is marginal rate of substitution (MRS).\n",
    "Subtracting 1 from each side, we have:\n",
    "$$\n",
    "    0=\\mathbb{E}_{t}\\left[r_{t+1, k} \\beta \\frac{u^{\\prime}\\left(c_{t+1}\\right)}{u^{\\prime}\\left(c_{t}\\right)}-1\\right]\n",
    "$$\n",
    "Under the assumption this  model is true, we use data $\\{(r_{t+1,k},c_{t},c_{t+1})\\}_{t=1}^{T}$ and estimate the parameters of interest."
   ]
  },
  {
   "cell_type": "markdown",
   "metadata": {},
   "source": [
    "Let's parametrize the utility function as in Hansen and Singleton (1982).\n",
    "$$\n",
    "    u\\left(c_{t}\\right)=(1+\\alpha)^{-1} c_{t}^{1+\\alpha}\n",
    "$$\n",
    "Notice this utility function exhibits constant relative risk aversion (CRRA) if $\\alpha<0$. The population moment becomes a specific nonlinear function of data and parameters:\n",
    "$$\n",
    "    \\mathbb{E}_t\\left[r_{t+1,k}\\beta\\left(\\frac{c_{t+1}}{c_{t}}\\right)^{\\alpha}-1\\right] = 0\n",
    "$$\n",
    "where expectation is taken over the information available at $t$. In other words, any deviation from the equality $r_{t+1,k}\\beta(\\frac{c_{t+1}}{c_{t}})^\\alpha-1=0$ is considered as error."
   ]
  },
  {
   "cell_type": "markdown",
   "metadata": {},
   "source": [
    "We wish to use information $\\mathbf{x_t} \\in I_t$ where $I_t$ the information set known by the agent and $\\mathbf{x_t}$ a vector of information observed by econometrician at time $t$. If $\\mathbf{x_t}$ is orthogonal to the moment, we can use $\\mathbf{x_t}$ as an instrument:\n",
    "$$\n",
    "    \\mathbb{E}\\left[\\mathbf{x_t}\\varepsilon_t|I_t\\right]:=\\mathbb{E}\\left[\\mathbf{x_t}\\cdot\\left(r_{t+1,k}\\beta\\left(\\frac{c_{t+1}}{c_{t}}\\right)^{\\alpha}-1\\right)\\right]=0\n",
    "$$"
   ]
  },
  {
   "cell_type": "markdown",
   "metadata": {},
   "source": [
    "### [Data](#data)<a name=\"data_menu\"></a>"
   ]
  },
  {
   "cell_type": "markdown",
   "metadata": {},
   "source": [
    "We aim to construct the following data in estimation:\n",
    "- Real consumption on expenditure on nondurables per capita\n",
    "- Real consumption on nondurables and services per capita\n",
    "- Value weighted aggregate stock returns\n",
    "- Equally weighted aggregate stock returns\n",
    "- S&P composite returns (Hansen and Singleton uses NYSE)"
   ]
  },
  {
   "cell_type": "markdown",
   "metadata": {},
   "source": [
    "We use the following data:\n",
    "- FRED Data: https://fred.stlouisfed.org/series/[INDEX NAME].\n",
    "  - Personal Consumption Expenditures: Nondurable Goods (PCEND)\n",
    "  - Personal Consumption Expenditures: Nondurable Goods (chain-type price index) (DNDGRG3M086SBEA, PPCEND)\n",
    "  - Personal Consumption Expenditures: Services (PCES)\n",
    "  - Personal Consumption Expenditures: Services (chain-type price index) (DSERRG3M086SBEA, PPCES)\n",
    "  - Consumer Price Index for All Urban Consumers: All Items in U.S. City Average (CPIAUCSL)\n",
    "  - Population (POPTHM)\n",
    "  - Population Level (CNP16OV)\n",
    "  - 1-Year Treasury Constant Maturity Rate (GS1)\n",
    "  - Real Personal Consumption Expenditures per Capita: Goods: Nondurable goods (A796RX0Q048SBEA)\n",
    "  - Real Personal Consumption Expenditures per Capita: Services (A797RX0Q048SBEA)\n",
    "- WRDS Data (CRSP)\n",
    "  - Value-Weighted Return (Incldues Distributions)  (vwretd)\n",
    "  - Value-Weighted Return (Excluding Dividends)     (vwretx)\n",
    "  - Equal-Weighted Return (Includes Distributions)  (ewretd)\n",
    "  - Equal-Weighted Return (Excluding Dividends)     (ewretx)\n",
    "  - Return on S&P Composite Index (sprtrn)\n",
    "  - Level on S&P Composite Index (spindx)"
   ]
  },
  {
   "cell_type": "code",
   "execution_count": 17,
   "metadata": {},
   "outputs": [
    {
     "ename": "UndefVarError",
     "evalue": "UndefVarError: set_api_key not defined",
     "output_type": "error",
     "traceback": [
      "UndefVarError: set_api_key not defined\n",
      "\n",
      "Stacktrace:\n",
      "  [1] top-level scope\n",
      "    @ c:\\Users\\jaepi\\OneDrive\\Documents\\GitHub\\jaepillee0315.github.io\\structural-econometrics\\2_GMM.ipynb:2\n",
      "  [2] eval\n",
      "    @ .\\boot.jl:373 [inlined]\n",
      "  [3] include_string(mapexpr::typeof(REPL.softscope), mod::Module, code::String, filename::String)\n",
      "    @ Base .\\loading.jl:1196\n",
      "  [4] #invokelatest#2\n",
      "    @ .\\essentials.jl:716 [inlined]\n",
      "  [5] invokelatest\n",
      "    @ .\\essentials.jl:714 [inlined]\n",
      "  [6] (::VSCodeServer.var\"#150#151\"{VSCodeServer.NotebookRunCellArguments, String})()\n",
      "    @ VSCodeServer c:\\Users\\jaepi\\.vscode\\extensions\\julialang.language-julia-1.5.11\\scripts\\packages\\VSCodeServer\\src\\serve_notebook.jl:18\n",
      "  [7] withpath(f::VSCodeServer.var\"#150#151\"{VSCodeServer.NotebookRunCellArguments, String}, path::String)\n",
      "    @ VSCodeServer c:\\Users\\jaepi\\.vscode\\extensions\\julialang.language-julia-1.5.11\\scripts\\packages\\VSCodeServer\\src\\repl.jl:185\n",
      "  [8] notebook_runcell_request(conn::VSCodeServer.JSONRPC.JSONRPCEndpoint{Base.PipeEndpoint, Base.PipeEndpoint}, params::VSCodeServer.NotebookRunCellArguments)\n",
      "    @ VSCodeServer c:\\Users\\jaepi\\.vscode\\extensions\\julialang.language-julia-1.5.11\\scripts\\packages\\VSCodeServer\\src\\serve_notebook.jl:14\n",
      "  [9] dispatch_msg(x::VSCodeServer.JSONRPC.JSONRPCEndpoint{Base.PipeEndpoint, Base.PipeEndpoint}, dispatcher::VSCodeServer.JSONRPC.MsgDispatcher, msg::Dict{String, Any})\n",
      "    @ VSCodeServer.JSONRPC c:\\Users\\jaepi\\.vscode\\extensions\\julialang.language-julia-1.5.11\\scripts\\packages\\JSONRPC\\src\\typed.jl:67\n",
      " [10] serve_notebook(pipename::String; crashreporting_pipename::String)\n",
      "    @ VSCodeServer c:\\Users\\jaepi\\.vscode\\extensions\\julialang.language-julia-1.5.11\\scripts\\packages\\VSCodeServer\\src\\serve_notebook.jl:94\n",
      " [11] top-level scope\n",
      "    @ c:\\Users\\jaepi\\.vscode\\extensions\\julialang.language-julia-1.5.11\\scripts\\notebook\\notebook.jl:12\n",
      " [12] include(mod::Module, _path::String)\n",
      "    @ Base .\\Base.jl:418\n",
      " [13] exec_options(opts::Base.JLOptions)\n",
      "    @ Base .\\client.jl:292\n",
      " [14] _start()\n",
      "    @ Base .\\client.jl:495"
     ]
    }
   ],
   "source": [
    "#%% Fred Data: API available at https://github.com/markushhh/FredApi.jl\n",
    "set_api_key(\"1c127c068abfcf46345a8eb4a99b4961\"); # you should get your own API key!"
   ]
  },
  {
   "cell_type": "code",
   "execution_count": 4,
   "metadata": {},
   "outputs": [
    {
     "ename": "UndefVarError",
     "evalue": "UndefVarError: DataFrame not defined",
     "output_type": "error",
     "traceback": [
      "UndefVarError: DataFrame not defined\n",
      "\n",
      "Stacktrace:\n",
      "  [1] top-level scope\n",
      "    @ c:\\Users\\jaepi\\OneDrive\\Documents\\GitHub\\jaepillee0315.github.io\\structural-econometrics\\2_GMM.ipynb:10\n",
      "  [2] eval\n",
      "    @ .\\boot.jl:373 [inlined]\n",
      "  [3] include_string(mapexpr::typeof(REPL.softscope), mod::Module, code::String, filename::String)\n",
      "    @ Base .\\loading.jl:1196\n",
      "  [4] #invokelatest#2\n",
      "    @ .\\essentials.jl:716 [inlined]\n",
      "  [5] invokelatest\n",
      "    @ .\\essentials.jl:714 [inlined]\n",
      "  [6] (::VSCodeServer.var\"#150#151\"{VSCodeServer.NotebookRunCellArguments, String})()\n",
      "    @ VSCodeServer c:\\Users\\jaepi\\.vscode\\extensions\\julialang.language-julia-1.5.11\\scripts\\packages\\VSCodeServer\\src\\serve_notebook.jl:18\n",
      "  [7] withpath(f::VSCodeServer.var\"#150#151\"{VSCodeServer.NotebookRunCellArguments, String}, path::String)\n",
      "    @ VSCodeServer c:\\Users\\jaepi\\.vscode\\extensions\\julialang.language-julia-1.5.11\\scripts\\packages\\VSCodeServer\\src\\repl.jl:185\n",
      "  [8] notebook_runcell_request(conn::VSCodeServer.JSONRPC.JSONRPCEndpoint{Base.PipeEndpoint, Base.PipeEndpoint}, params::VSCodeServer.NotebookRunCellArguments)\n",
      "    @ VSCodeServer c:\\Users\\jaepi\\.vscode\\extensions\\julialang.language-julia-1.5.11\\scripts\\packages\\VSCodeServer\\src\\serve_notebook.jl:14\n",
      "  [9] dispatch_msg(x::VSCodeServer.JSONRPC.JSONRPCEndpoint{Base.PipeEndpoint, Base.PipeEndpoint}, dispatcher::VSCodeServer.JSONRPC.MsgDispatcher, msg::Dict{String, Any})\n",
      "    @ VSCodeServer.JSONRPC c:\\Users\\jaepi\\.vscode\\extensions\\julialang.language-julia-1.5.11\\scripts\\packages\\JSONRPC\\src\\typed.jl:67\n",
      " [10] serve_notebook(pipename::String; crashreporting_pipename::String)\n",
      "    @ VSCodeServer c:\\Users\\jaepi\\.vscode\\extensions\\julialang.language-julia-1.5.11\\scripts\\packages\\VSCodeServer\\src\\serve_notebook.jl:94\n",
      " [11] top-level scope\n",
      "    @ c:\\Users\\jaepi\\.vscode\\extensions\\julialang.language-julia-1.5.11\\scripts\\notebook\\notebook.jl:12\n",
      " [12] include(mod::Module, _path::String)\n",
      "    @ Base .\\Base.jl:418\n",
      " [13] exec_options(opts::Base.JLOptions)\n",
      "    @ Base .\\client.jl:292\n",
      " [14] _start()\n",
      "    @ Base .\\client.jl:495"
     ]
    }
   ],
   "source": [
    "# Monthly Data:\n",
    "series_code = [\"PCEND\",\"DNDGRG3M086SBEA\",\"PCES\",\"DSERRG3M086SBEA\",\"CNP16OV\",\"GS1\",\"CPIAUCSL\"];\n",
    "series_name = [\"PCEND\",\"PPCEND\",\"PCES\",\"PPCES\",\"POP\",\"RF\",\"CPI\"];\n",
    "\n",
    "# Quarterly Data:\n",
    "realND_code = \"A796RX0Q048SBEA\"; realND_name = \"pce_real_ndg\";\n",
    "realS_code = \"A797RX0Q048SBEA\"; realS_name = \"pce_real_svc\";\n",
    "\n",
    "init_date = \"1959-12-01\"; end_date = \"2020-12-01\";\n",
    "Fred_df = DataFrame()\n",
    "Fred_df[!,:timestamp] = DataFrame(get_symbols(\"PCEND\",init_date,end_date))[1]\n",
    "Fred_df[!,Symbol.(series_name[1])] = DataFrame(get_symbols(\"PCEND\",init_date,end_date))[2]"
   ]
  },
  {
   "cell_type": "code",
   "execution_count": 5,
   "metadata": {},
   "outputs": [
    {
     "ename": "UndefVarError",
     "evalue": "UndefVarError: get_symbols not defined",
     "output_type": "error",
     "traceback": [
      "UndefVarError: get_symbols not defined\n",
      "\n",
      "Stacktrace:\n",
      "  [1] top-level scope\n",
      "    @ c:\\Users\\jaepi\\OneDrive\\Documents\\GitHub\\jaepillee0315.github.io\\structural-econometrics\\2_GMM.ipynb:3\n",
      "  [2] eval\n",
      "    @ .\\boot.jl:373 [inlined]\n",
      "  [3] include_string(mapexpr::typeof(REPL.softscope), mod::Module, code::String, filename::String)\n",
      "    @ Base .\\loading.jl:1196\n",
      "  [4] #invokelatest#2\n",
      "    @ .\\essentials.jl:716 [inlined]\n",
      "  [5] invokelatest\n",
      "    @ .\\essentials.jl:714 [inlined]\n",
      "  [6] (::VSCodeServer.var\"#150#151\"{VSCodeServer.NotebookRunCellArguments, String})()\n",
      "    @ VSCodeServer c:\\Users\\jaepi\\.vscode\\extensions\\julialang.language-julia-1.5.11\\scripts\\packages\\VSCodeServer\\src\\serve_notebook.jl:18\n",
      "  [7] withpath(f::VSCodeServer.var\"#150#151\"{VSCodeServer.NotebookRunCellArguments, String}, path::String)\n",
      "    @ VSCodeServer c:\\Users\\jaepi\\.vscode\\extensions\\julialang.language-julia-1.5.11\\scripts\\packages\\VSCodeServer\\src\\repl.jl:185\n",
      "  [8] notebook_runcell_request(conn::VSCodeServer.JSONRPC.JSONRPCEndpoint{Base.PipeEndpoint, Base.PipeEndpoint}, params::VSCodeServer.NotebookRunCellArguments)\n",
      "    @ VSCodeServer c:\\Users\\jaepi\\.vscode\\extensions\\julialang.language-julia-1.5.11\\scripts\\packages\\VSCodeServer\\src\\serve_notebook.jl:14\n",
      "  [9] dispatch_msg(x::VSCodeServer.JSONRPC.JSONRPCEndpoint{Base.PipeEndpoint, Base.PipeEndpoint}, dispatcher::VSCodeServer.JSONRPC.MsgDispatcher, msg::Dict{String, Any})\n",
      "    @ VSCodeServer.JSONRPC c:\\Users\\jaepi\\.vscode\\extensions\\julialang.language-julia-1.5.11\\scripts\\packages\\JSONRPC\\src\\typed.jl:67\n",
      " [10] serve_notebook(pipename::String; crashreporting_pipename::String)\n",
      "    @ VSCodeServer c:\\Users\\jaepi\\.vscode\\extensions\\julialang.language-julia-1.5.11\\scripts\\packages\\VSCodeServer\\src\\serve_notebook.jl:94\n",
      " [11] top-level scope\n",
      "    @ c:\\Users\\jaepi\\.vscode\\extensions\\julialang.language-julia-1.5.11\\scripts\\notebook\\notebook.jl:12\n",
      " [12] include(mod::Module, _path::String)\n",
      "    @ Base .\\Base.jl:418\n",
      " [13] exec_options(opts::Base.JLOptions)\n",
      "    @ Base .\\client.jl:292\n",
      " [14] _start()\n",
      "    @ Base .\\client.jl:495"
     ]
    }
   ],
   "source": [
    "\n",
    "for (i,j) in enumerate(series_code)\n",
    "    Fred_df[!,Symbol(series_name[i])] = DataFrame(get_symbols(j,init_date,end_date))[2]\n",
    "end"
   ]
  },
  {
   "cell_type": "code",
   "execution_count": 6,
   "metadata": {},
   "outputs": [
    {
     "ename": "ErrorException",
     "evalue": "syntax: extra token \")\" after end of expression",
     "output_type": "error",
     "traceback": [
      "syntax: extra token \")\" after end of expression\n",
      "\n",
      "Stacktrace:\n",
      "  [1] top-level scope\n",
      "    @ c:\\Users\\jaepi\\OneDrive\\Documents\\GitHub\\jaepillee0315.github.io\\structural-econometrics\\2_GMM.ipynb:2\n",
      "  [2] eval\n",
      "    @ .\\boot.jl:373 [inlined]\n",
      "  [3] include_string(mapexpr::typeof(REPL.softscope), mod::Module, code::String, filename::String)\n",
      "    @ Base .\\loading.jl:1196\n",
      "  [4] #invokelatest#2\n",
      "    @ .\\essentials.jl:716 [inlined]\n",
      "  [5] invokelatest\n",
      "    @ .\\essentials.jl:714 [inlined]\n",
      "  [6] (::VSCodeServer.var\"#150#151\"{VSCodeServer.NotebookRunCellArguments, String})()\n",
      "    @ VSCodeServer c:\\Users\\jaepi\\.vscode\\extensions\\julialang.language-julia-1.5.11\\scripts\\packages\\VSCodeServer\\src\\serve_notebook.jl:18\n",
      "  [7] withpath(f::VSCodeServer.var\"#150#151\"{VSCodeServer.NotebookRunCellArguments, String}, path::String)\n",
      "    @ VSCodeServer c:\\Users\\jaepi\\.vscode\\extensions\\julialang.language-julia-1.5.11\\scripts\\packages\\VSCodeServer\\src\\repl.jl:185\n",
      "  [8] notebook_runcell_request(conn::VSCodeServer.JSONRPC.JSONRPCEndpoint{Base.PipeEndpoint, Base.PipeEndpoint}, params::VSCodeServer.NotebookRunCellArguments)\n",
      "    @ VSCodeServer c:\\Users\\jaepi\\.vscode\\extensions\\julialang.language-julia-1.5.11\\scripts\\packages\\VSCodeServer\\src\\serve_notebook.jl:14\n",
      "  [9] dispatch_msg(x::VSCodeServer.JSONRPC.JSONRPCEndpoint{Base.PipeEndpoint, Base.PipeEndpoint}, dispatcher::VSCodeServer.JSONRPC.MsgDispatcher, msg::Dict{String, Any})\n",
      "    @ VSCodeServer.JSONRPC c:\\Users\\jaepi\\.vscode\\extensions\\julialang.language-julia-1.5.11\\scripts\\packages\\JSONRPC\\src\\typed.jl:67\n",
      " [10] serve_notebook(pipename::String; crashreporting_pipename::String)\n",
      "    @ VSCodeServer c:\\Users\\jaepi\\.vscode\\extensions\\julialang.language-julia-1.5.11\\scripts\\packages\\VSCodeServer\\src\\serve_notebook.jl:94\n",
      " [11] top-level scope\n",
      "    @ c:\\Users\\jaepi\\.vscode\\extensions\\julialang.language-julia-1.5.11\\scripts\\notebook\\notebook.jl:12\n",
      " [12] include(mod::Module, _path::String)\n",
      "    @ Base .\\Base.jl:418\n",
      " [13] exec_options(opts::Base.JLOptions)\n",
      "    @ Base .\\client.jl:292\n",
      " [14] _start()\n",
      "    @ Base .\\client.jl:495"
     ]
    }
   ],
   "source": [
    "\n",
    "wrds = CSV.read(\"WRDS.csv\"),dateformat=\"mm/dd/yyyy\")[13:end,:]; # 1960/01 to 2020/12\n",
    "\n",
    "Fred_xt  = TimeArray(Fred_df,timestamp=:timestamp);\n",
    "wrds_xt  = TimeArray(wrds,timestamp=:DATE);"
   ]
  },
  {
   "cell_type": "markdown",
   "metadata": {},
   "source": [
    "### Representative Consumer Model: Interpreting estimates from aggregate data\n",
    "To interpret these results, lifetime utility is:\n",
    "$$\n",
    "\\sum_{t=1}^{\\infty} \\beta^{t} u\\left(c_{t}\\right)=(1+\\alpha)^{-1} \\sum_{t=1}^{\\infty} \\beta^{t} c_{t}^{1+\\alpha}\n",
    "$$\n",
    "- NDS (nondurables plus services)\n",
    "- ND (nondurables)\n",
    "- EWR (NYSE equally weighted average returns)\n",
    "- VWR (NYSE value weighted average returns) \n",
    "  - Chemicals, transportation and equipment, and other retail, comprised the three industries.\n",
    "- Note that:\n",
    "  - 10 out of 12 specifications in Table III are rejected at the 0.05 level. \n",
    "  - Since $\\alpha>0$ implies convex increasing $u\\left(c_{t}\\right),$ the 2 remaining specifications in Table III not rejected in a statistical sense do not make economic sense."
   ]
  },
  {
   "cell_type": "markdown",
   "metadata": {},
   "source": [
    "#### Question 1. From 1960 to present, plot the aggregate monthly series of:\n",
    "- Real consumption on expenditure on nondurables per capita $c_{t}$ and its ratio $c_{t+1} / c_{t}$\n",
    "- Real consumption on nondurables and services per capita $c_{t}^{*}$ and its ratio $c_{t+1}^{*} / c_{t}^{*}$\n",
    "- Value weighted aggregate stock returns $r_{t+1}$\n",
    "- Equally weighted aggregate stock returns $r_{t+1}^{*}$"
   ]
  },
  {
   "cell_type": "markdown",
   "metadata": {},
   "source": [
    "Real Personal Consumption Expenditure on Nondurables\n",
    "$$\n",
    "    c_t = \\frac{\\text{Nondurables Consumption}_t * 1\\text{e}9}{\\text{Nondurables CPI}_t/100}*\\frac{1}{\\text{Population}_t * 1\\text{e}3}\n",
    "$$\n",
    "Real Personal Consumption Expenditure on Nondurables and Services\n",
    "$$\n",
    "    c_t^* = \\left(\\frac{\\text{Nondurables Consumption}_t * 1\\text{e}9}{\\text{Nondurables CPI}_t/100}+\\frac{\\text{Services Consumption}_t * 1\\text{e}9}{\\text{Services CPI}_t/100}\\right)*\\frac{1}{\\text{Population}_t * 1\\text{e}3}\n",
    "$$\n",
    "Real Value-weighted Return (VWRETD)\n",
    "$$\n",
    "    r_t = \\text{Real Value-weighted Return}_t = \\frac{1+\\text{Value-weighted Return}_t}{\\text{CPI}_{t}/\\text{CPI}_{t-1}}\n",
    "$$\n",
    "Real Equal-weighted Return (EWRETD)\n",
    "$$\n",
    "    r_t^* = \\text{Real Equal-weighted Return}_t = \\frac{1+\\text{Equal-weighted Return}_t}{\\text{CPI}_t/\\text{CPI}_{t-1}}\n",
    "$$\n",
    "Real S&P Return (SPRTRN)\n",
    "$$\n",
    "    r_t^{**} = \\text{Real S\\&P Return}_t = \\frac{1+\\text{S\\&P Return}_t}{\\text{CPI}_t/\\text{CPI}_{t-1}}\n",
    "$$"
   ]
  },
  {
   "cell_type": "code",
   "execution_count": 7,
   "metadata": {},
   "outputs": [
    {
     "ename": "UndefVarError",
     "evalue": "UndefVarError: Fred_xt not defined",
     "output_type": "error",
     "traceback": [
      "UndefVarError: Fred_xt not defined\n",
      "\n",
      "Stacktrace:\n",
      "  [1] top-level scope\n",
      "    @ c:\\Users\\jaepi\\OneDrive\\Documents\\GitHub\\jaepillee0315.github.io\\structural-econometrics\\2_GMM.ipynb:2\n",
      "  [2] eval\n",
      "    @ .\\boot.jl:373 [inlined]\n",
      "  [3] include_string(mapexpr::typeof(REPL.softscope), mod::Module, code::String, filename::String)\n",
      "    @ Base .\\loading.jl:1196\n",
      "  [4] #invokelatest#2\n",
      "    @ .\\essentials.jl:716 [inlined]\n",
      "  [5] invokelatest\n",
      "    @ .\\essentials.jl:714 [inlined]\n",
      "  [6] (::VSCodeServer.var\"#150#151\"{VSCodeServer.NotebookRunCellArguments, String})()\n",
      "    @ VSCodeServer c:\\Users\\jaepi\\.vscode\\extensions\\julialang.language-julia-1.5.11\\scripts\\packages\\VSCodeServer\\src\\serve_notebook.jl:18\n",
      "  [7] withpath(f::VSCodeServer.var\"#150#151\"{VSCodeServer.NotebookRunCellArguments, String}, path::String)\n",
      "    @ VSCodeServer c:\\Users\\jaepi\\.vscode\\extensions\\julialang.language-julia-1.5.11\\scripts\\packages\\VSCodeServer\\src\\repl.jl:185\n",
      "  [8] notebook_runcell_request(conn::VSCodeServer.JSONRPC.JSONRPCEndpoint{Base.PipeEndpoint, Base.PipeEndpoint}, params::VSCodeServer.NotebookRunCellArguments)\n",
      "    @ VSCodeServer c:\\Users\\jaepi\\.vscode\\extensions\\julialang.language-julia-1.5.11\\scripts\\packages\\VSCodeServer\\src\\serve_notebook.jl:14\n",
      "  [9] dispatch_msg(x::VSCodeServer.JSONRPC.JSONRPCEndpoint{Base.PipeEndpoint, Base.PipeEndpoint}, dispatcher::VSCodeServer.JSONRPC.MsgDispatcher, msg::Dict{String, Any})\n",
      "    @ VSCodeServer.JSONRPC c:\\Users\\jaepi\\.vscode\\extensions\\julialang.language-julia-1.5.11\\scripts\\packages\\JSONRPC\\src\\typed.jl:67\n",
      " [10] serve_notebook(pipename::String; crashreporting_pipename::String)\n",
      "    @ VSCodeServer c:\\Users\\jaepi\\.vscode\\extensions\\julialang.language-julia-1.5.11\\scripts\\packages\\VSCodeServer\\src\\serve_notebook.jl:94\n",
      " [11] top-level scope\n",
      "    @ c:\\Users\\jaepi\\.vscode\\extensions\\julialang.language-julia-1.5.11\\scripts\\notebook\\notebook.jl:12\n",
      " [12] include(mod::Module, _path::String)\n",
      "    @ Base .\\Base.jl:418\n",
      " [13] exec_options(opts::Base.JLOptions)\n",
      "    @ Base .\\client.jl:292\n",
      " [14] _start()\n",
      "    @ Base .\\client.jl:495"
     ]
    }
   ],
   "source": [
    "# FROM FED\n",
    "PCEND  = Fred_xt[:PCEND].*1_000_000_000; # Billions of Dollars, Seasonally Adjusted Annual Rate\n",
    "PPCEND = Fred_xt[:PPCEND]./100;          # Index 2012=100, Seasonally Adjusted\n",
    "PCES   = Fred_xt[:PCES].*1_000_000_000;  # Billions of Dollars, Seasonally Adjusted Annual Rate\n",
    "PPCES  = Fred_xt[:PPCES]./100;           # Index 2012=100, Seasonally Adjusted\n",
    "POP    = Fred_xt[:POP].*1000;            # Thousands of Persons\n",
    "RF     =(Fred_xt[:RF]./100)[2:end];      # Percent, Not Seasonally Adjusted from 1960/01 to 2020/12\n",
    "CPI    = Fred_xt[:CPI]./100;             # CPI\n",
    "\n",
    "# FROM WRDS\n",
    "VWRETD = wrds[:vwretd];                  # Value-Weighted Return (Incldues Distributions)  (vwretd)\n",
    "VWRETX = wrds[:vwretx];                  # Value-Weighted Return (Excluding Dividends)     (vwretx)\n",
    "EWRETD = wrds[:ewretd];                  # Equal-Weighted Return (Includes Distributions)  (ewretd)\n",
    "EWRETX = wrds[:ewretx];                  # Equal-Weighted Return (Excluding Dividends)     (ewretx)\n",
    "SPRTRN = wrds[:sprtrn];                  # Return on S&P Composite Index (sprtrn)\n",
    "SPINDX = wrds[:spindx];                  # Level on S&P Composite Index (spindx)\n",
    "\n",
    "# Real Personal Consumption Expenditure\n",
    "rPCENDpc = PCEND./(PPCEND.*POP);\n",
    "rPCESpc = PCES./(PPCES.*POP);\n",
    "rPCEpc = rPCENDpc .+ rPCESpc;\n",
    "rPCENDpcRatio = rPCENDpc./lag(rPCENDpc,1,padding=false);\n",
    "rPCEpcRatio = rPCEpc./lag(rPCEpc,1,padding=false);\n",
    "TimeSeries.rename!(rPCENDpc, :rPCENDpc);\n",
    "TimeSeries.rename!(rPCESpc, :rPCESpc);\n",
    "TimeSeries.rename!(rPCEpc, :rPCEpc);\n",
    "TimeSeries.rename!(rPCENDpcRatio, :rPCENDpcRatio);\n",
    "TimeSeries.rename!(rPCEpcRatio, :rPCEpcRatio);\n",
    "\n",
    "# Inflation and Risk-free Return\n",
    "INF = CPI./lag(CPI,1,padding=false);\n",
    "nRF = RF; # Nominal risk-free rate\n",
    "TimeSeries.rename!(INF, :INF);\n",
    "TimeSeries.rename!(nRF, :nRF);\n",
    "\n",
    "# S&P market return\n",
    "rVWRETD = (1 .+ VWRETD) ./ INF\n",
    "rEWRETD = (1 .+ EWRETD) ./ INF\n",
    "rSPRTRN = (1 .+ SPRTRN) ./ INF\n",
    "TimeSeries.rename!(rVWRETD, :rVWRETD);\n",
    "TimeSeries.rename!(rEWRETD, :rEWRETD);\n",
    "TimeSeries.rename!(rSPRTRN, :rSPRTRN);"
   ]
  },
  {
   "cell_type": "code",
   "execution_count": 8,
   "metadata": {},
   "outputs": [
    {
     "ename": "UndefVarError",
     "evalue": "UndefVarError: png not defined",
     "output_type": "error",
     "traceback": [
      "UndefVarError: png not defined\n",
      "\n",
      "Stacktrace:\n",
      "  [1] top-level scope\n",
      "    @ c:\\Users\\jaepi\\OneDrive\\Documents\\GitHub\\jaepillee0315.github.io\\structural-econometrics\\2_GMM.ipynb:1\n",
      "  [2] eval\n",
      "    @ .\\boot.jl:373 [inlined]\n",
      "  [3] include_string(mapexpr::typeof(REPL.softscope), mod::Module, code::String, filename::String)\n",
      "    @ Base .\\loading.jl:1196\n",
      "  [4] #invokelatest#2\n",
      "    @ .\\essentials.jl:716 [inlined]\n",
      "  [5] invokelatest\n",
      "    @ .\\essentials.jl:714 [inlined]\n",
      "  [6] (::VSCodeServer.var\"#150#151\"{VSCodeServer.NotebookRunCellArguments, String})()\n",
      "    @ VSCodeServer c:\\Users\\jaepi\\.vscode\\extensions\\julialang.language-julia-1.5.11\\scripts\\packages\\VSCodeServer\\src\\serve_notebook.jl:18\n",
      "  [7] withpath(f::VSCodeServer.var\"#150#151\"{VSCodeServer.NotebookRunCellArguments, String}, path::String)\n",
      "    @ VSCodeServer c:\\Users\\jaepi\\.vscode\\extensions\\julialang.language-julia-1.5.11\\scripts\\packages\\VSCodeServer\\src\\repl.jl:185\n",
      "  [8] notebook_runcell_request(conn::VSCodeServer.JSONRPC.JSONRPCEndpoint{Base.PipeEndpoint, Base.PipeEndpoint}, params::VSCodeServer.NotebookRunCellArguments)\n",
      "    @ VSCodeServer c:\\Users\\jaepi\\.vscode\\extensions\\julialang.language-julia-1.5.11\\scripts\\packages\\VSCodeServer\\src\\serve_notebook.jl:14\n",
      "  [9] dispatch_msg(x::VSCodeServer.JSONRPC.JSONRPCEndpoint{Base.PipeEndpoint, Base.PipeEndpoint}, dispatcher::VSCodeServer.JSONRPC.MsgDispatcher, msg::Dict{String, Any})\n",
      "    @ VSCodeServer.JSONRPC c:\\Users\\jaepi\\.vscode\\extensions\\julialang.language-julia-1.5.11\\scripts\\packages\\JSONRPC\\src\\typed.jl:67\n",
      " [10] serve_notebook(pipename::String; crashreporting_pipename::String)\n",
      "    @ VSCodeServer c:\\Users\\jaepi\\.vscode\\extensions\\julialang.language-julia-1.5.11\\scripts\\packages\\VSCodeServer\\src\\serve_notebook.jl:94\n",
      " [11] top-level scope\n",
      "    @ c:\\Users\\jaepi\\.vscode\\extensions\\julialang.language-julia-1.5.11\\scripts\\notebook\\notebook.jl:12\n",
      " [12] include(mod::Module, _path::String)\n",
      "    @ Base .\\Base.jl:418\n",
      " [13] exec_options(opts::Base.JLOptions)\n",
      "    @ Base .\\client.jl:292\n",
      " [14] _start()\n",
      "    @ Base .\\client.jl:495"
     ]
    }
   ],
   "source": [
    "gr(fmt=png);\n",
    "min_date = Dates.Date(1960,1,1)\n",
    "max_date = Dates.Date(2020,12,1)\n",
    "p1 = plot(rPCENDpc,label=\"\",\n",
    "          title=L\"C_{t}: \\textrm{PCEND per capita (Deflated)}\",\n",
    "          xlims = Dates.value.([min_date, max_date]),\n",
    "          xticks= min_date:Year(10):max_date)\n",
    "p2 = plot(rPCENDpcRatio,label=\"\",\n",
    "          title=L\"C_{t+1}/C_{t}: \\textrm{PCEND per capita Ratio}\",\n",
    "          xlims = Dates.value.([min_date, max_date]),\n",
    "          xticks= min_date:Year(10):max_date)\n",
    "p3 = plot(rPCEpc,label=\"\",\n",
    "          title=L\"C_{t}^{*}: \\textrm{PCE per capita (Deflated)}\",\n",
    "          xlims = Dates.value.([min_date, max_date]),\n",
    "          xticks= min_date:Year(10):max_date)\n",
    "p4 = plot(rPCEpcRatio,label=\"\",\n",
    "          title=L\"C_{t+1}^{*}/C_{t}^{*}: \\textrm{PCE per capita Ratio}\",\n",
    "          xlims = Dates.value.([min_date, max_date]),\n",
    "          xticks= min_date:Year(10):max_date)\n",
    "fig_c=plot(p1, p2, p3, p4, layout = @layout([p1 p3; p2 p4]), label=[\"\" \"\"],size=(1200,800))"
   ]
  },
  {
   "cell_type": "code",
   "execution_count": 9,
   "metadata": {},
   "outputs": [
    {
     "ename": "LoadError",
     "evalue": "LoadError: UndefVarError: @L_str not defined\nin expression starting at c:\\Users\\jaepi\\OneDrive\\Documents\\GitHub\\jaepillee0315.github.io\\structural-econometrics\\2_GMM.ipynb:2",
     "output_type": "error",
     "traceback": [
      "LoadError: UndefVarError: @L_str not defined\n",
      "in expression starting at c:\\Users\\jaepi\\OneDrive\\Documents\\GitHub\\jaepillee0315.github.io\\structural-econometrics\\2_GMM.ipynb:2\n",
      "\n",
      "Stacktrace:\n",
      "  [1] top-level scope\n",
      "    @ :0\n",
      "  [2] eval\n",
      "    @ .\\boot.jl:373 [inlined]\n",
      "  [3] include_string(mapexpr::typeof(REPL.softscope), mod::Module, code::String, filename::String)\n",
      "    @ Base .\\loading.jl:1196\n",
      "  [4] #invokelatest#2\n",
      "    @ .\\essentials.jl:716 [inlined]\n",
      "  [5] invokelatest\n",
      "    @ .\\essentials.jl:714 [inlined]\n",
      "  [6] (::VSCodeServer.var\"#150#151\"{VSCodeServer.NotebookRunCellArguments, String})()\n",
      "    @ VSCodeServer c:\\Users\\jaepi\\.vscode\\extensions\\julialang.language-julia-1.5.11\\scripts\\packages\\VSCodeServer\\src\\serve_notebook.jl:18\n",
      "  [7] withpath(f::VSCodeServer.var\"#150#151\"{VSCodeServer.NotebookRunCellArguments, String}, path::String)\n",
      "    @ VSCodeServer c:\\Users\\jaepi\\.vscode\\extensions\\julialang.language-julia-1.5.11\\scripts\\packages\\VSCodeServer\\src\\repl.jl:185\n",
      "  [8] notebook_runcell_request(conn::VSCodeServer.JSONRPC.JSONRPCEndpoint{Base.PipeEndpoint, Base.PipeEndpoint}, params::VSCodeServer.NotebookRunCellArguments)\n",
      "    @ VSCodeServer c:\\Users\\jaepi\\.vscode\\extensions\\julialang.language-julia-1.5.11\\scripts\\packages\\VSCodeServer\\src\\serve_notebook.jl:14\n",
      "  [9] dispatch_msg(x::VSCodeServer.JSONRPC.JSONRPCEndpoint{Base.PipeEndpoint, Base.PipeEndpoint}, dispatcher::VSCodeServer.JSONRPC.MsgDispatcher, msg::Dict{String, Any})\n",
      "    @ VSCodeServer.JSONRPC c:\\Users\\jaepi\\.vscode\\extensions\\julialang.language-julia-1.5.11\\scripts\\packages\\JSONRPC\\src\\typed.jl:67\n",
      " [10] serve_notebook(pipename::String; crashreporting_pipename::String)\n",
      "    @ VSCodeServer c:\\Users\\jaepi\\.vscode\\extensions\\julialang.language-julia-1.5.11\\scripts\\packages\\VSCodeServer\\src\\serve_notebook.jl:94\n",
      " [11] top-level scope\n",
      "    @ c:\\Users\\jaepi\\.vscode\\extensions\\julialang.language-julia-1.5.11\\scripts\\notebook\\notebook.jl:12\n",
      " [12] include(mod::Module, _path::String)\n",
      "    @ Base .\\Base.jl:418\n",
      " [13] exec_options(opts::Base.JLOptions)\n",
      "    @ Base .\\client.jl:292\n",
      " [14] _start()\n",
      "    @ Base .\\client.jl:495"
     ]
    }
   ],
   "source": [
    "p1 = plot(rVWRETD,label=\"\",\n",
    "          title=L\"r_{t} \\textrm{: Value-weighted Return}\",\n",
    "          xlims = Dates.value.([min_date, max_date]),\n",
    "          xticks= min_date:Year(15):max_date)\n",
    "p2 = plot(rEWRETD,label=\"\",\n",
    "          title=L\"r_{t}^{*} \\textrm{: Equal-weighted Return}\",\n",
    "          xlims = Dates.value.([min_date, max_date]),\n",
    "          xticks= min_date:Year(15):max_date)\n",
    "p3 = plot(rSPRTRN,label=\"\",\n",
    "          title=L\"r_{t}^{**} \\textrm{: S\\&P Return}\",\n",
    "          xlims = Dates.value.([min_date, max_date]),\n",
    "          xticks= min_date:Year(15):max_date)\n",
    "fig_r=plot(p1, p2, p3, layout = @layout([p1 p2 p3]), label=[\"\" \"\"],size=(1200,360))"
   ]
  },
  {
   "cell_type": "markdown",
   "metadata": {},
   "source": [
    "#### Question 2. Replicate the two panels of Table III from Hansen and Singleton (1984) to the extent you can with their subsample (1960-1 to 1978.12) and the instruments they used."
   ]
  },
  {
   "cell_type": "markdown",
   "metadata": {},
   "source": [
    "Before we get into Table III, let's see how we would replicate Table I:"
   ]
  },
  {
   "cell_type": "markdown",
   "metadata": {},
   "source": [
    "<img src=\"[Hansen,Singleton;1984;Ecma] ERRATA - Table I estimates for 1959.2 - 1978.12.png\">"
   ]
  },
  {
   "cell_type": "markdown",
   "metadata": {},
   "source": [
    "Let's consider the first line. We are using NDS, EWR, in the moment function and one their lagged terms as instruments.\n",
    "$$\n",
    "\\mathbb{E}\\left[\\begin{pmatrix} 1\\\\ \\frac{c_t^{*}}{c_{t-1}^{*}}\\\\ r_{t}^{*} \\end{pmatrix} \n",
    "    \\cdot \\left(r_{t+1}^{*}\\beta\\left(\\frac{c_{t+1}^{*}}{c_t^{*}}\\right)^{\\alpha}-1\\right)\\right] = 0 \\\\\n",
    "$$"
   ]
  },
  {
   "cell_type": "code",
   "execution_count": 10,
   "metadata": {},
   "outputs": [
    {
     "ename": "UndefVarError",
     "evalue": "UndefVarError: rPCEpcRatio not defined",
     "output_type": "error",
     "traceback": [
      "UndefVarError: rPCEpcRatio not defined\n",
      "\n",
      "Stacktrace:\n",
      "  [1] top-level scope\n",
      "    @ c:\\Users\\jaepi\\OneDrive\\Documents\\GitHub\\jaepillee0315.github.io\\structural-econometrics\\2_GMM.ipynb:6\n",
      "  [2] eval\n",
      "    @ .\\boot.jl:373 [inlined]\n",
      "  [3] include_string(mapexpr::typeof(REPL.softscope), mod::Module, code::String, filename::String)\n",
      "    @ Base .\\loading.jl:1196\n",
      "  [4] #invokelatest#2\n",
      "    @ .\\essentials.jl:716 [inlined]\n",
      "  [5] invokelatest\n",
      "    @ .\\essentials.jl:714 [inlined]\n",
      "  [6] (::VSCodeServer.var\"#150#151\"{VSCodeServer.NotebookRunCellArguments, String})()\n",
      "    @ VSCodeServer c:\\Users\\jaepi\\.vscode\\extensions\\julialang.language-julia-1.5.11\\scripts\\packages\\VSCodeServer\\src\\serve_notebook.jl:18\n",
      "  [7] withpath(f::VSCodeServer.var\"#150#151\"{VSCodeServer.NotebookRunCellArguments, String}, path::String)\n",
      "    @ VSCodeServer c:\\Users\\jaepi\\.vscode\\extensions\\julialang.language-julia-1.5.11\\scripts\\packages\\VSCodeServer\\src\\repl.jl:185\n",
      "  [8] notebook_runcell_request(conn::VSCodeServer.JSONRPC.JSONRPCEndpoint{Base.PipeEndpoint, Base.PipeEndpoint}, params::VSCodeServer.NotebookRunCellArguments)\n",
      "    @ VSCodeServer c:\\Users\\jaepi\\.vscode\\extensions\\julialang.language-julia-1.5.11\\scripts\\packages\\VSCodeServer\\src\\serve_notebook.jl:14\n",
      "  [9] dispatch_msg(x::VSCodeServer.JSONRPC.JSONRPCEndpoint{Base.PipeEndpoint, Base.PipeEndpoint}, dispatcher::VSCodeServer.JSONRPC.MsgDispatcher, msg::Dict{String, Any})\n",
      "    @ VSCodeServer.JSONRPC c:\\Users\\jaepi\\.vscode\\extensions\\julialang.language-julia-1.5.11\\scripts\\packages\\JSONRPC\\src\\typed.jl:67\n",
      " [10] serve_notebook(pipename::String; crashreporting_pipename::String)\n",
      "    @ VSCodeServer c:\\Users\\jaepi\\.vscode\\extensions\\julialang.language-julia-1.5.11\\scripts\\packages\\VSCodeServer\\src\\serve_notebook.jl:94\n",
      " [11] top-level scope\n",
      "    @ c:\\Users\\jaepi\\.vscode\\extensions\\julialang.language-julia-1.5.11\\scripts\\notebook\\notebook.jl:12\n",
      " [12] include(mod::Module, _path::String)\n",
      "    @ Base .\\Base.jl:418\n",
      " [13] exec_options(opts::Base.JLOptions)\n",
      "    @ Base .\\client.jl:292\n",
      " [14] _start()\n",
      "    @ Base .\\client.jl:495"
     ]
    }
   ],
   "source": [
    "# TABLE 1: EXAMPLE\n",
    "# CONSUMPTION: NDS\n",
    "# RETURN:      EWR\n",
    "# NLAG:        1\n",
    "\n",
    "C⃰ = values(rPCEpcRatio)[2:end];\n",
    "r⃰ = values(rEWRETD)[2:end];\n",
    "X = [C⃰ r⃰]; # N×2 matrix\n",
    "\n",
    "C⃰_L1 = values(lag(rPCEpcRatio,1,padding=false))[1:end];\n",
    "r⃰_L1 = values(lag(rEWRETD,1,padding=false))[1:end];\n",
    "Z = [ones(length(C⃰_L1)) C⃰_L1 r⃰_L1]; # N×l matrix\n",
    "\n",
    "function f_HS_TABLE1_EXAMPLE(γ, y, X, Z)\n",
    "    #= \n",
    "    γ: parameters. γ[1]=α, γ[2]=β\n",
    "    X: the matrix of variables that forms moments we wish to make 0\n",
    "    Z: the matrix orthogonal to moment\n",
    "    We want to have a N×3 vector\n",
    "    =#\n",
    "    C⃰, r⃰ = X[:,1], X[:,2]\n",
    "    return (r⃰ .* γ[2] .* C⃰.^γ[1] .- y) .* Z # (N×1) ⊗ (N×3)\n",
    "end;\n",
    "γ_GMM, σ_GMM, chi2_vec, df, pval_vec, diff_vec = iterated_GMM(f_HS_TABLE1_EXAMPLE, rand(2), ones(length(C⃰)), X, Z; tol=1e-8, max_iter=100);"
   ]
  },
  {
   "cell_type": "markdown",
   "metadata": {},
   "source": [
    "Note that the code returns p-values as `pval_vec`, not **\"Prob\"**. In Hansen and Singleton (1982), they reported (1-p-value) in the Prob column."
   ]
  },
  {
   "cell_type": "code",
   "execution_count": 11,
   "metadata": {},
   "outputs": [
    {
     "ename": "LoadError",
     "evalue": "LoadError: UndefVarError: @printf not defined\nin expression starting at c:\\Users\\jaepi\\OneDrive\\Documents\\GitHub\\jaepillee0315.github.io\\structural-econometrics\\2_GMM.ipynb:5",
     "output_type": "error",
     "traceback": [
      "LoadError: UndefVarError: @printf not defined\n",
      "in expression starting at c:\\Users\\jaepi\\OneDrive\\Documents\\GitHub\\jaepillee0315.github.io\\structural-econometrics\\2_GMM.ipynb:5\n",
      "\n",
      "Stacktrace:\n",
      "  [1] top-level scope\n",
      "    @ :0\n",
      "  [2] eval\n",
      "    @ .\\boot.jl:373 [inlined]\n",
      "  [3] include_string(mapexpr::typeof(REPL.softscope), mod::Module, code::String, filename::String)\n",
      "    @ Base .\\loading.jl:1196\n",
      "  [4] #invokelatest#2\n",
      "    @ .\\essentials.jl:716 [inlined]\n",
      "  [5] invokelatest\n",
      "    @ .\\essentials.jl:714 [inlined]\n",
      "  [6] (::VSCodeServer.var\"#150#151\"{VSCodeServer.NotebookRunCellArguments, String})()\n",
      "    @ VSCodeServer c:\\Users\\jaepi\\.vscode\\extensions\\julialang.language-julia-1.5.11\\scripts\\packages\\VSCodeServer\\src\\serve_notebook.jl:18\n",
      "  [7] withpath(f::VSCodeServer.var\"#150#151\"{VSCodeServer.NotebookRunCellArguments, String}, path::String)\n",
      "    @ VSCodeServer c:\\Users\\jaepi\\.vscode\\extensions\\julialang.language-julia-1.5.11\\scripts\\packages\\VSCodeServer\\src\\repl.jl:185\n",
      "  [8] notebook_runcell_request(conn::VSCodeServer.JSONRPC.JSONRPCEndpoint{Base.PipeEndpoint, Base.PipeEndpoint}, params::VSCodeServer.NotebookRunCellArguments)\n",
      "    @ VSCodeServer c:\\Users\\jaepi\\.vscode\\extensions\\julialang.language-julia-1.5.11\\scripts\\packages\\VSCodeServer\\src\\serve_notebook.jl:14\n",
      "  [9] dispatch_msg(x::VSCodeServer.JSONRPC.JSONRPCEndpoint{Base.PipeEndpoint, Base.PipeEndpoint}, dispatcher::VSCodeServer.JSONRPC.MsgDispatcher, msg::Dict{String, Any})\n",
      "    @ VSCodeServer.JSONRPC c:\\Users\\jaepi\\.vscode\\extensions\\julialang.language-julia-1.5.11\\scripts\\packages\\JSONRPC\\src\\typed.jl:67\n",
      " [10] serve_notebook(pipename::String; crashreporting_pipename::String)\n",
      "    @ VSCodeServer c:\\Users\\jaepi\\.vscode\\extensions\\julialang.language-julia-1.5.11\\scripts\\packages\\VSCodeServer\\src\\serve_notebook.jl:94\n",
      " [11] top-level scope\n",
      "    @ c:\\Users\\jaepi\\.vscode\\extensions\\julialang.language-julia-1.5.11\\scripts\\notebook\\notebook.jl:12\n",
      " [12] include(mod::Module, _path::String)\n",
      "    @ Base .\\Base.jl:418\n",
      " [13] exec_options(opts::Base.JLOptions)\n",
      "    @ Base .\\client.jl:292\n",
      " [14] _start()\n",
      "    @ Base .\\client.jl:495"
     ]
    }
   ],
   "source": [
    "print(\"Hansen-Singleton GMM Replication: Table I \\n\")\n",
    "print(\"Instrument Variable Estimates for the Period 1960:1 to 2020:12 \\n\")\n",
    "print(\"One-step GMM \\n\")\n",
    "print(\"Consumption | Return | NLAG |    α    |   se(α)   |    β    |   se(α)   |   χ²   | DF | p-value ||\\n\")\n",
    "@printf(\"NDS         | EWR    | 1    | %7.4f | (%7.5f) | %7.4f | (%7.5f) | %6.4f | %2i | %6.4f  ||\\n\", \n",
    "        γ_GMM[1][1], σ_GMM[1][1],γ_GMM[1][2], σ_GMM[1][2], chi2_vec[1], df, pval_vec[1])"
   ]
  },
  {
   "cell_type": "code",
   "execution_count": 12,
   "metadata": {},
   "outputs": [
    {
     "ename": "LoadError",
     "evalue": "LoadError: UndefVarError: @printf not defined\nin expression starting at c:\\Users\\jaepi\\OneDrive\\Documents\\GitHub\\jaepillee0315.github.io\\structural-econometrics\\2_GMM.ipynb:5",
     "output_type": "error",
     "traceback": [
      "LoadError: UndefVarError: @printf not defined\n",
      "in expression starting at c:\\Users\\jaepi\\OneDrive\\Documents\\GitHub\\jaepillee0315.github.io\\structural-econometrics\\2_GMM.ipynb:5\n",
      "\n",
      "Stacktrace:\n",
      "  [1] top-level scope\n",
      "    @ :0\n",
      "  [2] eval\n",
      "    @ .\\boot.jl:373 [inlined]\n",
      "  [3] include_string(mapexpr::typeof(REPL.softscope), mod::Module, code::String, filename::String)\n",
      "    @ Base .\\loading.jl:1196\n",
      "  [4] #invokelatest#2\n",
      "    @ .\\essentials.jl:716 [inlined]\n",
      "  [5] invokelatest\n",
      "    @ .\\essentials.jl:714 [inlined]\n",
      "  [6] (::VSCodeServer.var\"#150#151\"{VSCodeServer.NotebookRunCellArguments, String})()\n",
      "    @ VSCodeServer c:\\Users\\jaepi\\.vscode\\extensions\\julialang.language-julia-1.5.11\\scripts\\packages\\VSCodeServer\\src\\serve_notebook.jl:18\n",
      "  [7] withpath(f::VSCodeServer.var\"#150#151\"{VSCodeServer.NotebookRunCellArguments, String}, path::String)\n",
      "    @ VSCodeServer c:\\Users\\jaepi\\.vscode\\extensions\\julialang.language-julia-1.5.11\\scripts\\packages\\VSCodeServer\\src\\repl.jl:185\n",
      "  [8] notebook_runcell_request(conn::VSCodeServer.JSONRPC.JSONRPCEndpoint{Base.PipeEndpoint, Base.PipeEndpoint}, params::VSCodeServer.NotebookRunCellArguments)\n",
      "    @ VSCodeServer c:\\Users\\jaepi\\.vscode\\extensions\\julialang.language-julia-1.5.11\\scripts\\packages\\VSCodeServer\\src\\serve_notebook.jl:14\n",
      "  [9] dispatch_msg(x::VSCodeServer.JSONRPC.JSONRPCEndpoint{Base.PipeEndpoint, Base.PipeEndpoint}, dispatcher::VSCodeServer.JSONRPC.MsgDispatcher, msg::Dict{String, Any})\n",
      "    @ VSCodeServer.JSONRPC c:\\Users\\jaepi\\.vscode\\extensions\\julialang.language-julia-1.5.11\\scripts\\packages\\JSONRPC\\src\\typed.jl:67\n",
      " [10] serve_notebook(pipename::String; crashreporting_pipename::String)\n",
      "    @ VSCodeServer c:\\Users\\jaepi\\.vscode\\extensions\\julialang.language-julia-1.5.11\\scripts\\packages\\VSCodeServer\\src\\serve_notebook.jl:94\n",
      " [11] top-level scope\n",
      "    @ c:\\Users\\jaepi\\.vscode\\extensions\\julialang.language-julia-1.5.11\\scripts\\notebook\\notebook.jl:12\n",
      " [12] include(mod::Module, _path::String)\n",
      "    @ Base .\\Base.jl:418\n",
      " [13] exec_options(opts::Base.JLOptions)\n",
      "    @ Base .\\client.jl:292\n",
      " [14] _start()\n",
      "    @ Base .\\client.jl:495"
     ]
    }
   ],
   "source": [
    "print(\"Hansen-Singleton GMM Replication: Table I \\n\")\n",
    "print(\"Instrument Variable Estimates for the Period 1960:1 to 2020:12 \\n\")\n",
    "print(\"Two-step GMM \\n\")\n",
    "print(\"Consumption | Return | NLAG |    α    |   se(α)   |    β    |   se(α)   |   χ²   | DF |  p-value ||\\n\")\n",
    "@printf(\"NDS         | EWR    | 1    | %7.4f | (%7.5f) | %7.4f | (%7.5f) | %6.4f | %2i |  %6.4f  ||\\n\", \n",
    "        γ_GMM[2][1], σ_GMM[2][1], γ_GMM[2][2], σ_GMM[2][2], chi2_vec[2], df, pval_vec[2])"
   ]
  },
  {
   "cell_type": "code",
   "execution_count": 13,
   "metadata": {},
   "outputs": [
    {
     "ename": "LoadError",
     "evalue": "LoadError: UndefVarError: @printf not defined\nin expression starting at c:\\Users\\jaepi\\OneDrive\\Documents\\GitHub\\jaepillee0315.github.io\\structural-econometrics\\2_GMM.ipynb:5",
     "output_type": "error",
     "traceback": [
      "LoadError: UndefVarError: @printf not defined\n",
      "in expression starting at c:\\Users\\jaepi\\OneDrive\\Documents\\GitHub\\jaepillee0315.github.io\\structural-econometrics\\2_GMM.ipynb:5\n",
      "\n",
      "Stacktrace:\n",
      "  [1] top-level scope\n",
      "    @ :0\n",
      "  [2] eval\n",
      "    @ .\\boot.jl:373 [inlined]\n",
      "  [3] include_string(mapexpr::typeof(REPL.softscope), mod::Module, code::String, filename::String)\n",
      "    @ Base .\\loading.jl:1196\n",
      "  [4] #invokelatest#2\n",
      "    @ .\\essentials.jl:716 [inlined]\n",
      "  [5] invokelatest\n",
      "    @ .\\essentials.jl:714 [inlined]\n",
      "  [6] (::VSCodeServer.var\"#150#151\"{VSCodeServer.NotebookRunCellArguments, String})()\n",
      "    @ VSCodeServer c:\\Users\\jaepi\\.vscode\\extensions\\julialang.language-julia-1.5.11\\scripts\\packages\\VSCodeServer\\src\\serve_notebook.jl:18\n",
      "  [7] withpath(f::VSCodeServer.var\"#150#151\"{VSCodeServer.NotebookRunCellArguments, String}, path::String)\n",
      "    @ VSCodeServer c:\\Users\\jaepi\\.vscode\\extensions\\julialang.language-julia-1.5.11\\scripts\\packages\\VSCodeServer\\src\\repl.jl:185\n",
      "  [8] notebook_runcell_request(conn::VSCodeServer.JSONRPC.JSONRPCEndpoint{Base.PipeEndpoint, Base.PipeEndpoint}, params::VSCodeServer.NotebookRunCellArguments)\n",
      "    @ VSCodeServer c:\\Users\\jaepi\\.vscode\\extensions\\julialang.language-julia-1.5.11\\scripts\\packages\\VSCodeServer\\src\\serve_notebook.jl:14\n",
      "  [9] dispatch_msg(x::VSCodeServer.JSONRPC.JSONRPCEndpoint{Base.PipeEndpoint, Base.PipeEndpoint}, dispatcher::VSCodeServer.JSONRPC.MsgDispatcher, msg::Dict{String, Any})\n",
      "    @ VSCodeServer.JSONRPC c:\\Users\\jaepi\\.vscode\\extensions\\julialang.language-julia-1.5.11\\scripts\\packages\\JSONRPC\\src\\typed.jl:67\n",
      " [10] serve_notebook(pipename::String; crashreporting_pipename::String)\n",
      "    @ VSCodeServer c:\\Users\\jaepi\\.vscode\\extensions\\julialang.language-julia-1.5.11\\scripts\\packages\\VSCodeServer\\src\\serve_notebook.jl:94\n",
      " [11] top-level scope\n",
      "    @ c:\\Users\\jaepi\\.vscode\\extensions\\julialang.language-julia-1.5.11\\scripts\\notebook\\notebook.jl:12\n",
      " [12] include(mod::Module, _path::String)\n",
      "    @ Base .\\Base.jl:418\n",
      " [13] exec_options(opts::Base.JLOptions)\n",
      "    @ Base .\\client.jl:292\n",
      " [14] _start()\n",
      "    @ Base .\\client.jl:495"
     ]
    }
   ],
   "source": [
    "print(\"Hansen-Singleton GMM Replication: Table I \\n\")\n",
    "print(\"Instrument Variable Estimates for the Period 1960:1 to 2020:12 \\n\")\n",
    "print(\"Iterated GMM until convergence with tolerance 1e-8 \\n\")\n",
    "print(\"Consumption | Return | NLAG |    α    |   se(α)   |    β    |   se(α)   |   χ²   | DF |  p-value | Iteration ||\\n\")\n",
    "@printf(\"NDS         | EWR    | 1    | %7.4f | (%7.5f) | %7.4f | (%7.5f) | %6.4f | %2i |  %6.4f  | %5i     ||\\n\", \n",
    "        γ_GMM[end][1], σ_GMM[end][1], γ_GMM[end][2], σ_GMM[end][2], chi2_vec[end], df, pval_vec[end], size(γ_GMM)[1])"
   ]
  },
  {
   "cell_type": "markdown",
   "metadata": {},
   "source": [
    "### [Estimation](#estimation)<a name=\"estimation_menu\"></a>"
   ]
  },
  {
   "cell_type": "markdown",
   "metadata": {},
   "source": [
    "### Let's replicate Table III (Finally!)"
   ]
  },
  {
   "cell_type": "markdown",
   "metadata": {},
   "source": [
    "<img src=\"[Hansen,Singleton;1984;Ecma] ERRATA - Table III estimates with multiple returns.png\">"
   ]
  },
  {
   "cell_type": "markdown",
   "metadata": {},
   "source": [
    "#### Panel A"
   ]
  },
  {
   "cell_type": "markdown",
   "metadata": {},
   "source": [
    "There is one more complication here: we now have two sets of orthogonality conditions. The first line estimates of Table III uses equally- and value-weighted returns, with one lag for each of the consumption ration and equally- and value-weighted returns. This is a set of 8 population moment conditions in 2 parameters ($\\alpha,\\beta$)."
   ]
  },
  {
   "cell_type": "markdown",
   "metadata": {},
   "source": [
    "$$\n",
    "\\begin{align*}\n",
    "\\mathbb{E}\\left[\\begin{pmatrix}\n",
    "1\\\\ \n",
    "\\frac{c_t}{c_{t-1}}\\\\ \n",
    "r_{t}^*\\\\ \n",
    "r_{t}\n",
    "\\end{pmatrix} \\cdot \\left(r_{t+1}^*\\beta\\left(\\frac{c_{t+1}^*}{c_t^*}\\right)^{\\alpha}-1\\right)\\right] &= 0 \\\\\n",
    "\\mathbb{E}\\left[\\begin{pmatrix}\n",
    "1\\\\ \n",
    "\\frac{c_t}{c_{t-1}}\\\\ \n",
    "r_{t}^*\\\\ \n",
    "r_{t}\n",
    "\\end{pmatrix} \\cdot \\left(r_{t+1}\\beta\\left(\\frac{c_{t+1}^*}{c_t^*}\\right)^{\\alpha}-1\\right)\\right] &= 0\n",
    "\\end{align*}\n",
    "$$"
   ]
  },
  {
   "cell_type": "markdown",
   "metadata": {},
   "source": [
    "The degree of freedom (DF) is 2*(1+(NLAG of consumption ratio)+(NLAG of EWR)+(NLAG of VWR))-2\n",
    "- NLAG=1: $2\\times(1+1+1+1)-2=6$\n",
    "- NLAG=2: $2\\times(1+2+2+2)-2=12$ \n",
    "- NLAG=4: $2\\times(1+4+4+4)-2=24$"
   ]
  },
  {
   "cell_type": "code",
   "execution_count": 14,
   "metadata": {},
   "outputs": [
    {
     "ename": "UndefVarError",
     "evalue": "UndefVarError: rPCEpcRatio not defined",
     "output_type": "error",
     "traceback": [
      "UndefVarError: rPCEpcRatio not defined\n",
      "\n",
      "Stacktrace:\n",
      "  [1] top-level scope\n",
      "    @ c:\\Users\\jaepi\\OneDrive\\Documents\\GitHub\\jaepillee0315.github.io\\structural-econometrics\\2_GMM.ipynb:6\n",
      "  [2] eval\n",
      "    @ .\\boot.jl:373 [inlined]\n",
      "  [3] include_string(mapexpr::typeof(REPL.softscope), mod::Module, code::String, filename::String)\n",
      "    @ Base .\\loading.jl:1196\n",
      "  [4] #invokelatest#2\n",
      "    @ .\\essentials.jl:716 [inlined]\n",
      "  [5] invokelatest\n",
      "    @ .\\essentials.jl:714 [inlined]\n",
      "  [6] (::VSCodeServer.var\"#150#151\"{VSCodeServer.NotebookRunCellArguments, String})()\n",
      "    @ VSCodeServer c:\\Users\\jaepi\\.vscode\\extensions\\julialang.language-julia-1.5.11\\scripts\\packages\\VSCodeServer\\src\\serve_notebook.jl:18\n",
      "  [7] withpath(f::VSCodeServer.var\"#150#151\"{VSCodeServer.NotebookRunCellArguments, String}, path::String)\n",
      "    @ VSCodeServer c:\\Users\\jaepi\\.vscode\\extensions\\julialang.language-julia-1.5.11\\scripts\\packages\\VSCodeServer\\src\\repl.jl:185\n",
      "  [8] notebook_runcell_request(conn::VSCodeServer.JSONRPC.JSONRPCEndpoint{Base.PipeEndpoint, Base.PipeEndpoint}, params::VSCodeServer.NotebookRunCellArguments)\n",
      "    @ VSCodeServer c:\\Users\\jaepi\\.vscode\\extensions\\julialang.language-julia-1.5.11\\scripts\\packages\\VSCodeServer\\src\\serve_notebook.jl:14\n",
      "  [9] dispatch_msg(x::VSCodeServer.JSONRPC.JSONRPCEndpoint{Base.PipeEndpoint, Base.PipeEndpoint}, dispatcher::VSCodeServer.JSONRPC.MsgDispatcher, msg::Dict{String, Any})\n",
      "    @ VSCodeServer.JSONRPC c:\\Users\\jaepi\\.vscode\\extensions\\julialang.language-julia-1.5.11\\scripts\\packages\\JSONRPC\\src\\typed.jl:67\n",
      " [10] serve_notebook(pipename::String; crashreporting_pipename::String)\n",
      "    @ VSCodeServer c:\\Users\\jaepi\\.vscode\\extensions\\julialang.language-julia-1.5.11\\scripts\\packages\\VSCodeServer\\src\\serve_notebook.jl:94\n",
      " [11] top-level scope\n",
      "    @ c:\\Users\\jaepi\\.vscode\\extensions\\julialang.language-julia-1.5.11\\scripts\\notebook\\notebook.jl:12\n",
      " [12] include(mod::Module, _path::String)\n",
      "    @ Base .\\Base.jl:418\n",
      " [13] exec_options(opts::Base.JLOptions)\n",
      "    @ Base .\\client.jl:292\n",
      " [14] _start()\n",
      "    @ Base .\\client.jl:495"
     ]
    }
   ],
   "source": [
    "# TABLE 3: EXAMPLE\n",
    "# CONSUMPTION: NDS\n",
    "# RETURN: EWR & VWR\n",
    "# NLAG: 1\n",
    "\n",
    "C⃰ = values(rPCEpcRatio)[2:end];\n",
    "r  = values(rVWRETD)[2:end];\n",
    "r⃰ = values(rEWRETD)[2:end];\n",
    "X = [C⃰ r r⃰];\n",
    "\n",
    "C⃰_L1 = values(lag(rPCEpcRatio,1,padding=false));\n",
    "r_L1  = values(lag(rVWRETD,1,padding=false));\n",
    "r⃰_L1 = values(lag(rEWRETD,1,padding=false));\n",
    "Z = [ones(length(C⃰_L1)) C⃰_L1 r_L1 r⃰_L1];\n",
    "\n",
    "function f_HS_TABLE3_EXAMPLE(γ, y, X, Z)\n",
    "    #= \n",
    "    γ: parameters. γ[1]=α, γ[2]=β\n",
    "    X: the matrix of variables that forms moments we wish to make 0\n",
    "    Z: the matrix orthogonal to moment\n",
    "    We want to have a N×8 vector\n",
    "    =#\n",
    "    C⃰, r, r⃰ = X[:,1], X[:,2], X[:,3];\n",
    "    m1 = (r⃰ .* γ[2] .* C⃰.^γ[1] - y) .* Z # (N×1) ⊗ (N×4)\n",
    "    m2 = (r  .* γ[2] .* C⃰.^γ[1] - y) .* Z # (N×1) ⊗ (N×4)\n",
    "    return [m1 m2]\n",
    "end;"
   ]
  },
  {
   "cell_type": "markdown",
   "metadata": {},
   "source": [
    "#### Panel B"
   ]
  },
  {
   "cell_type": "markdown",
   "metadata": {},
   "source": [
    "In Hansen and Singleton (1984), they describe how they used the nominal risk-free returns:"
   ]
  },
  {
   "cell_type": "markdown",
   "metadata": {},
   "source": [
    "<img src=\"[Hansen,Singleton;1984;Ecma] ERRATA - on nominal risk-free returns on Table III.png\" width=\"700\">"
   ]
  },
  {
   "cell_type": "markdown",
   "metadata": {},
   "source": [
    "$$\n",
    "\\begin{align*}\n",
    "\\mathbb{E}\\left[\\begin{pmatrix}\n",
    "1\\\\ \n",
    "\\frac{c_t}{c_{t-1}}\\\\ \n",
    "r_{t}\\\\ \n",
    "\\frac{R_{t+1}^f}{R_{t}^f}\\\\\n",
    "\\frac{R_{t}^f}{R_{t-1}^f}\n",
    "\\end{pmatrix} \\cdot \\left(r_{t+1}\\beta\\left(\\frac{c_{t+1}^*}{c_t^*}\\right)^{\\alpha}-1\\right)\\right] &= 0 \\\\\n",
    "\\mathbb{E}\\left[\\begin{pmatrix}\n",
    "1\\\\ \n",
    "\\frac{c_t}{c_{t-1}}\\\\ \n",
    "r_t \\\\\n",
    "\\frac{R_{t+1}^f}{R_{t}^f}\\\\\n",
    "\\frac{R_{t}^f}{R_{t-1}^f}\n",
    "\\end{pmatrix} \\cdot \\left(R_{t+1}^f \\beta\\left(\\frac{c_{t+1}}{c_t}\\right)^{\\alpha}-1\\right)\\right] &= 0\n",
    "\\end{align*}\n",
    "$$"
   ]
  },
  {
   "cell_type": "markdown",
   "metadata": {},
   "source": [
    "Their claim is that the degree of freedom is 2* [constant + (risk-free ratio + NLAG for risk-free ratio) + (NLAG for consumption ratio) + (NLAG for VWR)]-2\n",
    "- NLAG=1: $2\\times(1+(1+1)+1+1)-2=8$\n",
    "- NLAG=2: $2\\times(1+(1+2)+2+2)-2=14$\n",
    "- NLAG=4: $2\\times(1+(1+4)+4+4)-2=26$\n",
    "\n",
    "(Credit to Christine Dabbs) However, it seems like Hansen and Singleton double-counted the number of risk-free ratios. They have df = 8, 16, 32. These numbers are replicable if we counted degree of freedoms as:\n",
    "\n",
    "2* [constant + 2*(NLAG for risk-free ratio) + (NLAG for consumption ratio) + (NLAG for VWR)]-2\n",
    "- NLAG=1: $2\\times(1+2*1+1+1)-2=8$\n",
    "- NLAG=2: $2\\times(1+2*2+2+2)-2=16$\n",
    "- NLAG=4: $2\\times(1+2*4+4+4)-2=32$"
   ]
  },
  {
   "cell_type": "markdown",
   "metadata": {},
   "source": [
    "#### Question 3\n",
    "\n",
    "Here, you are now estimating 4 parameters, $(\\alpha_1,\\beta_1,\\alpha_2,\\beta_2)$. You may want to find $(\\alpha_1,\\beta_1)$ only with data from 1960.1 to 1978.12 and $(\\alpha_2,\\beta_2)$ with data from 1979.1 and onward. You can change `f_HS_TABLE3_EXAMPLE` to do this exercise. You can only use data from 1960.1 to 1978.12 for `m1` and use data from 1979.1 to 2020.12 for `m2`. You may also want to use $4\\times1$ vector $\\vec{\\gamma}$. This is your 'unconstrained' GMM.\n",
    "\n",
    "Now, you are asked to test $(\\alpha_1,\\beta_1)=(\\alpha_2,\\beta_2)$. The following theorem will be helpful:"
   ]
  },
  {
   "cell_type": "markdown",
   "metadata": {},
   "source": [
    "#### Theorem ([Professor Miller's Lecture Notes, slide 17](https://comlabgames.com/structuraleconometrics/3%20Asymptotic%20Theory%20for%20Nonlinear%20Models/13%20Testing%20Parametric%20Models/13%20Testing%20Parametric%20Models.pdf))\n",
    "Let $J_{un}$ be the unconstrained GMM criterion function with $l_1$ orthogonality conditions and $k_1$ parameters. Let $J_{con}$ be the constrained GMM criterion function with $l_2$ orthogonality conditions and $k_2$ parameters. Then,\n",
    "$$\n",
    "J_{con} - J_{un} \\overset{d}{\\longrightarrow} \\chi^2_{(l_2-k_2)-(l_1-k_1)}.\n",
    "$$"
   ]
  },
  {
   "cell_type": "markdown",
   "metadata": {},
   "source": [
    "Additionally, you might be able to test models with more parameters in more time frames, say, before/after the financial crisis in 2008 and before/after COVID-19. To do so, you may need more instruments using more lagged variables."
   ]
  },
  {
   "cell_type": "markdown",
   "metadata": {},
   "source": [
    "#### Question 4 and 5\n",
    "I will leave questions 4 and 5 for you to explore. Now you have basic codes to run, I am sure you can easily modify code and get the estimates."
   ]
  },
  {
   "cell_type": "markdown",
   "metadata": {},
   "source": [
    "#### Question 6\n",
    "\n",
    "Let’s come back to data and think about big picture here. Hansen and Singleton (1982) assumes that we have a stationary environment. Test whether any of these series we considered in question 1 have a unit root. (You should read about [unit root tests](https://en.wikipedia.org/wiki/Unit_root_test) first.) Is there evidencethat these series are not stationary and ergodic?"
   ]
  },
  {
   "cell_type": "markdown",
   "metadata": {},
   "source": [
    "I use [Augmented Dickey-Fuller (ADF) Test](https://en.wikipedia.org/wiki/Augmented_Dickey%E2%80%93Fuller_test). I will let you discuss whether you think time series data we used are stationary and ergodic."
   ]
  },
  {
   "cell_type": "markdown",
   "metadata": {},
   "source": [
    "(Not graded) TA's conjecture: Try ADF tests with i) a constant, ii) a trend, iii) a trend and trend squared. What do these tests tell you? If Hansen and Singleton (1982) requires stationarity, how would you incorporate the findings to your model?"
   ]
  },
  {
   "cell_type": "code",
   "execution_count": 15,
   "metadata": {},
   "outputs": [
    {
     "ename": "UndefVarError",
     "evalue": "UndefVarError: TimeArray not defined",
     "output_type": "error",
     "traceback": [
      "UndefVarError: TimeArray not defined\n",
      "\n",
      "Stacktrace:\n",
      "  [1] top-level scope\n",
      "    @ c:\\Users\\jaepi\\OneDrive\\Documents\\GitHub\\jaepillee0315.github.io\\structural-econometrics\\2_GMM.ipynb:1\n",
      "  [2] eval\n",
      "    @ .\\boot.jl:373 [inlined]\n",
      "  [3] include_string(mapexpr::typeof(REPL.softscope), mod::Module, code::String, filename::String)\n",
      "    @ Base .\\loading.jl:1196\n",
      "  [4] #invokelatest#2\n",
      "    @ .\\essentials.jl:716 [inlined]\n",
      "  [5] invokelatest\n",
      "    @ .\\essentials.jl:714 [inlined]\n",
      "  [6] (::VSCodeServer.var\"#150#151\"{VSCodeServer.NotebookRunCellArguments, String})()\n",
      "    @ VSCodeServer c:\\Users\\jaepi\\.vscode\\extensions\\julialang.language-julia-1.5.11\\scripts\\packages\\VSCodeServer\\src\\serve_notebook.jl:18\n",
      "  [7] withpath(f::VSCodeServer.var\"#150#151\"{VSCodeServer.NotebookRunCellArguments, String}, path::String)\n",
      "    @ VSCodeServer c:\\Users\\jaepi\\.vscode\\extensions\\julialang.language-julia-1.5.11\\scripts\\packages\\VSCodeServer\\src\\repl.jl:185\n",
      "  [8] notebook_runcell_request(conn::VSCodeServer.JSONRPC.JSONRPCEndpoint{Base.PipeEndpoint, Base.PipeEndpoint}, params::VSCodeServer.NotebookRunCellArguments)\n",
      "    @ VSCodeServer c:\\Users\\jaepi\\.vscode\\extensions\\julialang.language-julia-1.5.11\\scripts\\packages\\VSCodeServer\\src\\serve_notebook.jl:14\n",
      "  [9] dispatch_msg(x::VSCodeServer.JSONRPC.JSONRPCEndpoint{Base.PipeEndpoint, Base.PipeEndpoint}, dispatcher::VSCodeServer.JSONRPC.MsgDispatcher, msg::Dict{String, Any})\n",
      "    @ VSCodeServer.JSONRPC c:\\Users\\jaepi\\.vscode\\extensions\\julialang.language-julia-1.5.11\\scripts\\packages\\JSONRPC\\src\\typed.jl:67\n",
      " [10] serve_notebook(pipename::String; crashreporting_pipename::String)\n",
      "    @ VSCodeServer c:\\Users\\jaepi\\.vscode\\extensions\\julialang.language-julia-1.5.11\\scripts\\packages\\VSCodeServer\\src\\serve_notebook.jl:94\n",
      " [11] top-level scope\n",
      "    @ c:\\Users\\jaepi\\.vscode\\extensions\\julialang.language-julia-1.5.11\\scripts\\notebook\\notebook.jl:12\n",
      " [12] include(mod::Module, _path::String)\n",
      "    @ Base .\\Base.jl:418\n",
      " [13] exec_options(opts::Base.JLOptions)\n",
      "    @ Base .\\client.jl:292\n",
      " [14] _start()\n",
      "    @ Base .\\client.jl:495"
     ]
    }
   ],
   "source": [
    "varDF = DataFrame(varname=Vector{String}(),\n",
    "                varsymbol=Vector{Symbol}(),\n",
    "                vardata=Vector{TimeArray}())\n",
    "varDF=vcat(varDF,DataFrame(varname=\"PCE per Capita (deflated)\",varsymbol=:rPCEpc,vardata=rPCEpc))\n",
    "varDF=vcat(varDF,DataFrame(varname=\"PCEND per Capita (deflated)\",varsymbol=:rPCENDpc,vardata=rPCENDpc))\n",
    "varDF=vcat(varDF,DataFrame(varname=\"PCE per Capita (deflated) ratio\",varsymbol=:rPCEpcRatio,vardata=rPCEpcRatio))\n",
    "varDF=vcat(varDF,DataFrame(varname=\"PCEND per Capita (deflated) ratio\",varsymbol=:rPCENDpcRatio,vardata=rPCENDpcRatio))\n",
    "varDF=vcat(varDF,DataFrame(varname=\"Real Equal-weighted Returns\",varsymbol=:rEWRETD,vardata=rEWRETD))\n",
    "varDF=vcat(varDF,DataFrame(varname=\"Real Value-Weighted Returns\",varsymbol=:rVWRETD,vardata=rVWRETD))\n",
    "varDF=vcat(varDF,DataFrame(varname=\"Real S&P Returns\",varsymbol=:rSPRTRN,vardata=rSPRTRN))\n",
    "for i in 1:4\n",
    "    name = varDF[:varname][i]\n",
    "    symbol = varDF[:varsymbol][i]\n",
    "    data = varDF[:vardata][i]\n",
    "    data = DataFrame(data)[!,symbol][2:end]\n",
    "    print(\"ADF Test: $name \\n\")\n",
    "    print(\"        | Coefficient |  Statistic  | p-value | \\n\")\n",
    "    for lags = [1,2,4,6]\n",
    "        stat = ADFTest(data, :none, lags).stat\n",
    "        coef = ADFTest(data, :none, lags).coef\n",
    "        pval = pvalue(ADFTest(data, :none, lags))\n",
    "        print(\"NLAGS:$lags |\")\n",
    "        @printf(\" %11.8f | %11.8f |  %6.4f | \\n\", coef, stat, pval)\n",
    "    end\n",
    "    print(\"\\n\")\n",
    "end"
   ]
  },
  {
   "cell_type": "code",
   "execution_count": 16,
   "metadata": {},
   "outputs": [
    {
     "ename": "LoadError",
     "evalue": "LoadError: UndefVarError: @printf not defined\nin expression starting at c:\\Users\\jaepi\\OneDrive\\Documents\\GitHub\\jaepillee0315.github.io\\structural-econometrics\\2_GMM.ipynb:13",
     "output_type": "error",
     "traceback": [
      "LoadError: UndefVarError: @printf not defined\n",
      "in expression starting at c:\\Users\\jaepi\\OneDrive\\Documents\\GitHub\\jaepillee0315.github.io\\structural-econometrics\\2_GMM.ipynb:13\n",
      "\n",
      "Stacktrace:\n",
      "  [1] top-level scope\n",
      "    @ :0\n",
      "  [2] eval\n",
      "    @ .\\boot.jl:373 [inlined]\n",
      "  [3] include_string(mapexpr::typeof(REPL.softscope), mod::Module, code::String, filename::String)\n",
      "    @ Base .\\loading.jl:1196\n",
      "  [4] #invokelatest#2\n",
      "    @ .\\essentials.jl:716 [inlined]\n",
      "  [5] invokelatest\n",
      "    @ .\\essentials.jl:714 [inlined]\n",
      "  [6] (::VSCodeServer.var\"#150#151\"{VSCodeServer.NotebookRunCellArguments, String})()\n",
      "    @ VSCodeServer c:\\Users\\jaepi\\.vscode\\extensions\\julialang.language-julia-1.5.11\\scripts\\packages\\VSCodeServer\\src\\serve_notebook.jl:18\n",
      "  [7] withpath(f::VSCodeServer.var\"#150#151\"{VSCodeServer.NotebookRunCellArguments, String}, path::String)\n",
      "    @ VSCodeServer c:\\Users\\jaepi\\.vscode\\extensions\\julialang.language-julia-1.5.11\\scripts\\packages\\VSCodeServer\\src\\repl.jl:185\n",
      "  [8] notebook_runcell_request(conn::VSCodeServer.JSONRPC.JSONRPCEndpoint{Base.PipeEndpoint, Base.PipeEndpoint}, params::VSCodeServer.NotebookRunCellArguments)\n",
      "    @ VSCodeServer c:\\Users\\jaepi\\.vscode\\extensions\\julialang.language-julia-1.5.11\\scripts\\packages\\VSCodeServer\\src\\serve_notebook.jl:14\n",
      "  [9] dispatch_msg(x::VSCodeServer.JSONRPC.JSONRPCEndpoint{Base.PipeEndpoint, Base.PipeEndpoint}, dispatcher::VSCodeServer.JSONRPC.MsgDispatcher, msg::Dict{String, Any})\n",
      "    @ VSCodeServer.JSONRPC c:\\Users\\jaepi\\.vscode\\extensions\\julialang.language-julia-1.5.11\\scripts\\packages\\JSONRPC\\src\\typed.jl:67\n",
      " [10] serve_notebook(pipename::String; crashreporting_pipename::String)\n",
      "    @ VSCodeServer c:\\Users\\jaepi\\.vscode\\extensions\\julialang.language-julia-1.5.11\\scripts\\packages\\VSCodeServer\\src\\serve_notebook.jl:94\n",
      " [11] top-level scope\n",
      "    @ c:\\Users\\jaepi\\.vscode\\extensions\\julialang.language-julia-1.5.11\\scripts\\notebook\\notebook.jl:12\n",
      " [12] include(mod::Module, _path::String)\n",
      "    @ Base .\\Base.jl:418\n",
      " [13] exec_options(opts::Base.JLOptions)\n",
      "    @ Base .\\client.jl:292\n",
      " [14] _start()\n",
      "    @ Base .\\client.jl:495"
     ]
    }
   ],
   "source": [
    "for i in 5:size(varDF)[1]\n",
    "    name = varDF[:varname][i]\n",
    "    symbol = varDF[:varsymbol][i]\n",
    "    data = varDF[:vardata][i]\n",
    "    data = DataFrame(data)[!,symbol][2:end]\n",
    "    print(\"ADF Test: $name \\n\")\n",
    "    print(\"        | Coefficient |  Statistic  | p-value | \\n\")\n",
    "    for lags = [1,2,4,6]\n",
    "        stat = ADFTest(data, :none, lags).stat\n",
    "        coef = ADFTest(data, :none, lags).coef\n",
    "        pval = pvalue(ADFTest(data, :none, lags))\n",
    "        print(\"NLAGS:$lags |\")\n",
    "        @printf(\" %11.8f | %11.8f |  %6.4f | \\n\", coef, stat, pval)\n",
    "    end\n",
    "    print(\"\\n\")\n",
    "end"
   ]
  },
  {
   "cell_type": "markdown",
   "metadata": {},
   "source": [
    "References:\n",
    "- [Professor Miller's Lecture Note Chapters 3 and 12](https://comlabgames.com/structuraleconometrics/)\n",
    "- [Bruce Hansen's econometrics textbook](https://www.ssc.wisc.edu/~bhansen/econometrics/Econometrics.pdf)\n",
    "- Hansen, Lars Peter, and Kenneth J. Singleton. \"Generalized instrumental variables estimation of nonlinear rational expectations models.\" Econometrica: Journal of the Econometric Society (1982): 1269-1286.\n",
    "- Hansen, Lars Peter. \"Large sample properties of generalized method of moments estimators.\" Econometrica: Journal of the econometric society (1982): 1029-1054.\n",
    "- Newey, Whitney K., and Daniel McFadden. \"Large sample estimation and hypothesis testing.\" Handbook of econometrics 4 (1994): 2111-2245."
   ]
  }
 ],
 "metadata": {
  "interpreter": {
   "hash": "a267767b0365975aa72e76b2c82a72031645e8a834ae07d807b027acc15d9ffa"
  },
  "kernelspec": {
   "display_name": "Julia 1.7.1",
   "language": "julia",
   "name": "julia-1.7"
  },
  "language_info": {
   "file_extension": ".jl",
   "mimetype": "application/julia",
   "name": "julia",
   "version": "1.7.1"
  }
 },
 "nbformat": 4,
 "nbformat_minor": 4
}
